{
 "cells": [
  {
   "cell_type": "markdown",
   "metadata": {},
   "source": [
    "# ***U.S Census At School - Analyzing the Data***\n",
    "---\n",
    "\n",
    "*José Carrera - ____*\n",
    "\n",
    "*Martín García - 2230436*\n",
    "\n",
    "*David Melo - ____*\n",
    "\n",
    "*Juan Andrés Ruiz - ____*"
   ]
  },
  {
   "cell_type": "markdown",
   "metadata": {},
   "source": [
    "## ***Preparación y Exploración de Datos***"
   ]
  },
  {
   "cell_type": "markdown",
   "metadata": {},
   "source": [
    "### **Importando las librerías**"
   ]
  },
  {
   "cell_type": "code",
   "execution_count": 165,
   "metadata": {},
   "outputs": [],
   "source": [
    "import pandas as pd\n",
    "import matplotlib.pyplot as plt\n",
    "\n",
    "plt.style.use('ggplot')"
   ]
  },
  {
   "cell_type": "markdown",
   "metadata": {},
   "source": [
    "### **Leyendo el dataframe y mostrando las primeras filas**"
   ]
  },
  {
   "cell_type": "code",
   "execution_count": 166,
   "metadata": {},
   "outputs": [],
   "source": [
    "df = pd.read_csv(\"../data/merged_data.csv\")"
   ]
  },
  {
   "cell_type": "code",
   "execution_count": 167,
   "metadata": {},
   "outputs": [
    {
     "data": {
      "text/html": [
       "<div>\n",
       "<style scoped>\n",
       "    .dataframe tbody tr th:only-of-type {\n",
       "        vertical-align: middle;\n",
       "    }\n",
       "\n",
       "    .dataframe tbody tr th {\n",
       "        vertical-align: top;\n",
       "    }\n",
       "\n",
       "    .dataframe thead th {\n",
       "        text-align: right;\n",
       "    }\n",
       "</style>\n",
       "<table border=\"1\" class=\"dataframe\">\n",
       "  <thead>\n",
       "    <tr style=\"text-align: right;\">\n",
       "      <th></th>\n",
       "      <th>Region</th>\n",
       "      <th>Gender</th>\n",
       "      <th>Handed</th>\n",
       "      <th>Favourite_physical_activity</th>\n",
       "      <th>Importance_reducing_pollution</th>\n",
       "      <th>Birth_month</th>\n",
       "      <th>Beverage</th>\n",
       "      <th>Favorite_School_Subject</th>\n",
       "      <th>Sleep_Hours_Non_Schoolnight</th>\n",
       "      <th>Paid_Work_Hours</th>\n",
       "      <th>Work_At_Home_Hours</th>\n",
       "      <th>Planned_Education_Level</th>\n",
       "    </tr>\n",
       "  </thead>\n",
       "  <tbody>\n",
       "    <tr>\n",
       "      <th>0</th>\n",
       "      <td>CA</td>\n",
       "      <td>Male</td>\n",
       "      <td>Right-Handed</td>\n",
       "      <td>Running/Jogging</td>\n",
       "      <td>1000</td>\n",
       "      <td>April</td>\n",
       "      <td>Water</td>\n",
       "      <td>Computers and technology</td>\n",
       "      <td>11</td>\n",
       "      <td>0</td>\n",
       "      <td>10</td>\n",
       "      <td>Undergraduate degree</td>\n",
       "    </tr>\n",
       "    <tr>\n",
       "      <th>1</th>\n",
       "      <td>CA</td>\n",
       "      <td>Male</td>\n",
       "      <td>Right-Handed</td>\n",
       "      <td>Walking/Hiking</td>\n",
       "      <td>1000</td>\n",
       "      <td>May</td>\n",
       "      <td>Water</td>\n",
       "      <td>Science</td>\n",
       "      <td>12</td>\n",
       "      <td>0</td>\n",
       "      <td>7</td>\n",
       "      <td>Graduate degree</td>\n",
       "    </tr>\n",
       "    <tr>\n",
       "      <th>2</th>\n",
       "      <td>CA</td>\n",
       "      <td>Male</td>\n",
       "      <td>Right-Handed</td>\n",
       "      <td>Soccer</td>\n",
       "      <td>1000</td>\n",
       "      <td>June</td>\n",
       "      <td>Water</td>\n",
       "      <td>Mathematics and statistics</td>\n",
       "      <td>10</td>\n",
       "      <td>0</td>\n",
       "      <td>6</td>\n",
       "      <td>Some college</td>\n",
       "    </tr>\n",
       "    <tr>\n",
       "      <th>3</th>\n",
       "      <td>CA</td>\n",
       "      <td>Male</td>\n",
       "      <td>Right-Handed</td>\n",
       "      <td>Swimming</td>\n",
       "      <td>1000</td>\n",
       "      <td>June</td>\n",
       "      <td>Water</td>\n",
       "      <td>Physical education</td>\n",
       "      <td>8</td>\n",
       "      <td>0</td>\n",
       "      <td>7</td>\n",
       "      <td>Other</td>\n",
       "    </tr>\n",
       "    <tr>\n",
       "      <th>4</th>\n",
       "      <td>CA</td>\n",
       "      <td>Male</td>\n",
       "      <td>Right-Handed</td>\n",
       "      <td>Basketball</td>\n",
       "      <td>900</td>\n",
       "      <td>July</td>\n",
       "      <td>Water</td>\n",
       "      <td>English</td>\n",
       "      <td>9</td>\n",
       "      <td>0</td>\n",
       "      <td>4</td>\n",
       "      <td>Graduate degree</td>\n",
       "    </tr>\n",
       "    <tr>\n",
       "      <th>5</th>\n",
       "      <td>CA</td>\n",
       "      <td>Male</td>\n",
       "      <td>Right-Handed</td>\n",
       "      <td>Swimming</td>\n",
       "      <td>0</td>\n",
       "      <td>August</td>\n",
       "      <td>Water</td>\n",
       "      <td>Mathematics and statistics</td>\n",
       "      <td>8</td>\n",
       "      <td>0</td>\n",
       "      <td>3</td>\n",
       "      <td>Graduate degree</td>\n",
       "    </tr>\n",
       "    <tr>\n",
       "      <th>6</th>\n",
       "      <td>CA</td>\n",
       "      <td>Female</td>\n",
       "      <td>Right-Handed</td>\n",
       "      <td>Martial Arts</td>\n",
       "      <td>989</td>\n",
       "      <td>August</td>\n",
       "      <td>Water</td>\n",
       "      <td>Art</td>\n",
       "      <td>9</td>\n",
       "      <td>0</td>\n",
       "      <td>3</td>\n",
       "      <td>Graduate degree</td>\n",
       "    </tr>\n",
       "    <tr>\n",
       "      <th>7</th>\n",
       "      <td>CA</td>\n",
       "      <td>Female</td>\n",
       "      <td>Right-Handed</td>\n",
       "      <td>Tennis</td>\n",
       "      <td>650</td>\n",
       "      <td>June</td>\n",
       "      <td>Water</td>\n",
       "      <td>History</td>\n",
       "      <td>11</td>\n",
       "      <td>17</td>\n",
       "      <td>7</td>\n",
       "      <td>Graduate degree</td>\n",
       "    </tr>\n",
       "    <tr>\n",
       "      <th>8</th>\n",
       "      <td>CA</td>\n",
       "      <td>Male</td>\n",
       "      <td>Right-Handed</td>\n",
       "      <td>Athletics</td>\n",
       "      <td>1000</td>\n",
       "      <td>December</td>\n",
       "      <td>Water</td>\n",
       "      <td>Art</td>\n",
       "      <td>8</td>\n",
       "      <td>0</td>\n",
       "      <td>2</td>\n",
       "      <td>Some college</td>\n",
       "    </tr>\n",
       "    <tr>\n",
       "      <th>9</th>\n",
       "      <td>CA</td>\n",
       "      <td>Male</td>\n",
       "      <td>Right-Handed</td>\n",
       "      <td>Soccer</td>\n",
       "      <td>91</td>\n",
       "      <td>September</td>\n",
       "      <td>Water</td>\n",
       "      <td>History</td>\n",
       "      <td>7</td>\n",
       "      <td>14</td>\n",
       "      <td>10</td>\n",
       "      <td>Graduate degree</td>\n",
       "    </tr>\n",
       "  </tbody>\n",
       "</table>\n",
       "</div>"
      ],
      "text/plain": [
       "  Region  Gender        Handed Favourite_physical_activity  \\\n",
       "0     CA    Male  Right-Handed             Running/Jogging   \n",
       "1     CA    Male  Right-Handed              Walking/Hiking   \n",
       "2     CA    Male  Right-Handed                      Soccer   \n",
       "3     CA    Male  Right-Handed                    Swimming   \n",
       "4     CA    Male  Right-Handed                  Basketball   \n",
       "5     CA    Male  Right-Handed                    Swimming   \n",
       "6     CA  Female  Right-Handed                Martial Arts   \n",
       "7     CA  Female  Right-Handed                      Tennis   \n",
       "8     CA    Male  Right-Handed                   Athletics   \n",
       "9     CA    Male  Right-Handed                      Soccer   \n",
       "\n",
       "   Importance_reducing_pollution Birth_month Beverage  \\\n",
       "0                           1000       April    Water   \n",
       "1                           1000         May    Water   \n",
       "2                           1000        June    Water   \n",
       "3                           1000        June    Water   \n",
       "4                            900        July    Water   \n",
       "5                              0      August    Water   \n",
       "6                            989      August    Water   \n",
       "7                            650        June    Water   \n",
       "8                           1000    December    Water   \n",
       "9                             91   September    Water   \n",
       "\n",
       "      Favorite_School_Subject  Sleep_Hours_Non_Schoolnight  Paid_Work_Hours  \\\n",
       "0    Computers and technology                           11                0   \n",
       "1                     Science                           12                0   \n",
       "2  Mathematics and statistics                           10                0   \n",
       "3          Physical education                            8                0   \n",
       "4                     English                            9                0   \n",
       "5  Mathematics and statistics                            8                0   \n",
       "6                         Art                            9                0   \n",
       "7                     History                           11               17   \n",
       "8                         Art                            8                0   \n",
       "9                     History                            7               14   \n",
       "\n",
       "   Work_At_Home_Hours Planned_Education_Level  \n",
       "0                  10    Undergraduate degree  \n",
       "1                   7         Graduate degree  \n",
       "2                   6            Some college  \n",
       "3                   7                   Other  \n",
       "4                   4         Graduate degree  \n",
       "5                   3         Graduate degree  \n",
       "6                   3         Graduate degree  \n",
       "7                   7         Graduate degree  \n",
       "8                   2            Some college  \n",
       "9                  10         Graduate degree  "
      ]
     },
     "execution_count": 167,
     "metadata": {},
     "output_type": "execute_result"
    }
   ],
   "source": [
    "df.head(10)"
   ]
  },
  {
   "cell_type": "markdown",
   "metadata": {},
   "source": [
    "### **Mostrando sus dimensiones**"
   ]
  },
  {
   "cell_type": "code",
   "execution_count": 168,
   "metadata": {},
   "outputs": [
    {
     "name": "stdout",
     "output_type": "stream",
     "text": [
      "El dataset tiene 1443 filas y 12 columnas.\n"
     ]
    }
   ],
   "source": [
    "filas = df.shape[0]\n",
    "columnas = df.shape[1]\n",
    "\n",
    "print(f\"El dataset tiene {filas} filas y {columnas} columnas.\")"
   ]
  },
  {
   "cell_type": "markdown",
   "metadata": {},
   "source": [
    "### **Tipos de variables**"
   ]
  },
  {
   "cell_type": "code",
   "execution_count": 169,
   "metadata": {},
   "outputs": [
    {
     "name": "stdout",
     "output_type": "stream",
     "text": [
      "<class 'pandas.core.frame.DataFrame'>\n",
      "RangeIndex: 1443 entries, 0 to 1442\n",
      "Data columns (total 12 columns):\n",
      " #   Column                         Non-Null Count  Dtype \n",
      "---  ------                         --------------  ----- \n",
      " 0   Region                         1443 non-null   object\n",
      " 1   Gender                         1443 non-null   object\n",
      " 2   Handed                         1443 non-null   object\n",
      " 3   Favourite_physical_activity    1443 non-null   object\n",
      " 4   Importance_reducing_pollution  1443 non-null   int64 \n",
      " 5   Birth_month                    1443 non-null   object\n",
      " 6   Beverage                       1443 non-null   object\n",
      " 7   Favorite_School_Subject        1443 non-null   object\n",
      " 8   Sleep_Hours_Non_Schoolnight    1443 non-null   int64 \n",
      " 9   Paid_Work_Hours                1443 non-null   int64 \n",
      " 10  Work_At_Home_Hours             1443 non-null   int64 \n",
      " 11  Planned_Education_Level        1443 non-null   object\n",
      "dtypes: int64(4), object(8)\n",
      "memory usage: 135.4+ KB\n"
     ]
    }
   ],
   "source": [
    "df.info()"
   ]
  },
  {
   "cell_type": "code",
   "execution_count": 170,
   "metadata": {},
   "outputs": [
    {
     "data": {
      "text/plain": [
       "Sleep_Hours_Non_Schoolnight\n",
       "10    345\n",
       "9     318\n",
       "8     282\n",
       "7     107\n",
       "12     98\n",
       "11     81\n",
       "6      76\n",
       "5      53\n",
       "4      34\n",
       "3      19\n",
       "13     10\n",
       "14      6\n",
       "15      5\n",
       "2       5\n",
       "1       4\n",
       "Name: count, dtype: int64"
      ]
     },
     "execution_count": 170,
     "metadata": {},
     "output_type": "execute_result"
    }
   ],
   "source": [
    "df[\"Sleep_Hours_Non_Schoolnight\"].value_counts()"
   ]
  },
  {
   "cell_type": "markdown",
   "metadata": {},
   "source": [
    "### **Sobre el dataset**"
   ]
  },
  {
   "cell_type": "markdown",
   "metadata": {},
   "source": [
    "#### ***a) Unidad de estudio***\n",
    "La unidad de estudio en este caso corresponde a cada estudiante individual que respondió al cuestionario \"*Census at School*\". Cada fila del dataset representa un estudiante con sus respectivas características.\n",
    "\n",
    "#### ***b) Población objeto de estudio***\n",
    "La población objeto de estudio son los estudiantes de los Estados Unidos que participaron en el cuestionario \"*Census at School*\". Esta población incluye a estudiantes de diversas edades, géneros, y características socioeconómicas, aunque en este análisis se centró en un subconjunto específico de estudiantes (de 500 por cada estado seleccionado).\n",
    "\n",
    "#### ***c) Muestra de estudio***\n",
    "La muestra de estudio es un subconjunto de estudiantes que se seleccionó de la población original. Este archivo tiene 12 columnas, puesto que se han reducido las variables de interés para podernos concentrar en aspectos específicos para el análisis. \n",
    "\n",
    "#### ***d) Variable de análisis***\n",
    "Las variables de análisis son las columnas del dataset que iremos a analizar a continuación. Cada columna en el archivo CSV representa una variable distinta que se analizará. Estas variables pueden incluir edad, género, tiempos de viaje a la escuela, altura, y otros atributos de los estudiantes según el cuestionario original.\n",
    "\n",
    "#### ***e) Tipo de variables y su escala de medición***\n",
    "\n",
    "##### **Tipo de Variables**\n",
    "\n",
    "***Categóricas***: Variables que representan categorías o grupos, como \"Género\" (Male, Female), \"Método de transporte\" (Car, Bus, etc.).\n",
    "\n",
    "***Numéricas***:\n",
    "* **Discretas**: Contadores como  la cantidad de personas en el hogar.\n",
    "* **Continuas**: Medidas como altura, tiempo de viaje, etc.\n",
    "\n",
    "##### **Escala de Medición**\n",
    "\n",
    "***Nominal***: Categorías sin un orden intrínseco (*por ejemplo, \"**Género**\"*).\n",
    "\n",
    "***Ordinal***: Categorías con un orden lógico (*aunque no siempre numérico; por ejemplo, \"**Nivel de educación planeado**\"*).\n",
    "\n",
    "***Intervalo***: Variables numéricas donde las diferencias son significativas, pero no hay un verdadero cero (*no aplicable en el dataset*).\n",
    "\n",
    "***Razón***: Variables numéricas con un verdadero cero, como altura, tiempo, etc.\n",
    "\n",
    "#### ***f) Variables clave para el análisis***\n",
    "\n",
    "* ***Region*** (Estado): Útil para segmentar los resultados de los análisis geográficamente.\n",
    "\n",
    "* ***Gender*** (*Género*): Es fundamental para realizar comparaciones entre hombres y mujeres en diversas actividades y preferencias.\n",
    "\n",
    "* ***Favourite_physical_activity*** (*Actividad física favorita*): Permite identificar patrones en las preferencias deportivas y cómo estas se relacionan con otras variables como el género o la región.\n",
    "\n",
    "* ***Importance_reducing_pollution*** (*Importancia de reducir la contaminación*): Es una variable ordinal que se puede analizar en relación con otras variables como la educación planificada o el género.\n",
    "\n",
    "* **Sleep_Hours_Non_Schoolnight** (*Horas de sueño en noches sin clases*): Importante para analizar hábitos de sueño y cómo estos varían según otras características.\n",
    "\n",
    "* ***Paid_Work_Hours*** (*Horas trabajadas con pago*): Se puede usar para entender cómo los estudiantes distribuyen su tiempo entre el trabajo y otras actividades.\n",
    "\n",
    "* ***Planned_Education_Level*** (*Nivel de educación planificado*): Esta variable ofrece insights sobre las aspiraciones académicas y se puede cruzar con variables como el género o el mes de nacimiento."
   ]
  },
  {
   "cell_type": "markdown",
   "metadata": {},
   "source": [
    "## ***Análisis Descriptivo de los Datos***"
   ]
  },
  {
   "cell_type": "markdown",
   "metadata": {},
   "source": [
    "### *¿Cuántos estudiantes son diestros, zurdos o ambidiestros?*\n",
    "Existen **1250** estudiantes que son *diestros*, **134** que son *zurdos* y **59** que manejan ambas manos (*ambidiestros*)."
   ]
  },
  {
   "cell_type": "code",
   "execution_count": 171,
   "metadata": {},
   "outputs": [],
   "source": [
    "conteo_mano_dominante = df[\"Handed\"].value_counts()"
   ]
  },
  {
   "cell_type": "code",
   "execution_count": 172,
   "metadata": {},
   "outputs": [
    {
     "data": {
      "image/png": "[encoded data removed]",
      "text/plain": [
       "<Figure size 640x480 with 1 Axes>"
      ]
     },
     "metadata": {},
     "output_type": "display_data"
    }
   ],
   "source": [
    "conteo_mano_dominante.plot(kind=\"bar\")\n",
    "\n",
    "for i, value in enumerate(conteo_mano_dominante):\n",
    "    plt.text(i, value, str(value), ha = 'center', va = 'bottom')\n",
    "\n",
    "plt.title(\"Mano dominante de los estudiantes\")\n",
    "plt.xlabel(\"Mano dominante\")\n",
    "plt.ylabel(\"Cantidad de estudiantes\")\n",
    "\n",
    "plt.show()"
   ]
  },
  {
   "cell_type": "markdown",
   "metadata": {},
   "source": [
    "### *¿Cuál es el mes donde nacieron más estudiantes de los que participan en el Censo escolar en cada estado?*\n",
    "\n",
    "De los estudiantes que participan en el Censo escolar, se puede determinar que el mes donde más nacieron estudiantes en todos los estados fue **Septiembre**."
   ]
  },
  {
   "cell_type": "code",
   "execution_count": 173,
   "metadata": {},
   "outputs": [],
   "source": [
    "conteo_nacimientos_por_mes = (df.groupby(['Region', 'Birth_month']).size()\n",
    "                            .reset_index(name='Count'))\n",
    "\n",
    "mes_más_comun_por_estado = conteo_nacimientos_por_mes.groupby('Region').agg(\n",
    "    Mes_Nacimiento=('Birth_month', lambda x: x.loc[x.idxmax()]),\n",
    "    Conteo=('Count', 'max')\n",
    ").reset_index()"
   ]
  },
  {
   "cell_type": "code",
   "execution_count": 174,
   "metadata": {},
   "outputs": [
    {
     "data": {
      "text/html": [
       "<div>\n",
       "<style scoped>\n",
       "    .dataframe tbody tr th:only-of-type {\n",
       "        vertical-align: middle;\n",
       "    }\n",
       "\n",
       "    .dataframe tbody tr th {\n",
       "        vertical-align: top;\n",
       "    }\n",
       "\n",
       "    .dataframe thead th {\n",
       "        text-align: right;\n",
       "    }\n",
       "</style>\n",
       "<table border=\"1\" class=\"dataframe\">\n",
       "  <thead>\n",
       "    <tr style=\"text-align: right;\">\n",
       "      <th></th>\n",
       "      <th>Region</th>\n",
       "      <th>Mes_Nacimiento</th>\n",
       "      <th>Conteo</th>\n",
       "    </tr>\n",
       "  </thead>\n",
       "  <tbody>\n",
       "    <tr>\n",
       "      <th>0</th>\n",
       "      <td>CA</td>\n",
       "      <td>September</td>\n",
       "      <td>38</td>\n",
       "    </tr>\n",
       "    <tr>\n",
       "      <th>1</th>\n",
       "      <td>FL</td>\n",
       "      <td>September</td>\n",
       "      <td>38</td>\n",
       "    </tr>\n",
       "    <tr>\n",
       "      <th>2</th>\n",
       "      <td>NY</td>\n",
       "      <td>September</td>\n",
       "      <td>41</td>\n",
       "    </tr>\n",
       "    <tr>\n",
       "      <th>3</th>\n",
       "      <td>TX</td>\n",
       "      <td>September</td>\n",
       "      <td>38</td>\n",
       "    </tr>\n",
       "  </tbody>\n",
       "</table>\n",
       "</div>"
      ],
      "text/plain": [
       "  Region Mes_Nacimiento  Conteo\n",
       "0     CA      September      38\n",
       "1     FL      September      38\n",
       "2     NY      September      41\n",
       "3     TX      September      38"
      ]
     },
     "execution_count": 174,
     "metadata": {},
     "output_type": "execute_result"
    }
   ],
   "source": [
    "mes_más_comun_por_estado"
   ]
  },
  {
   "cell_type": "markdown",
   "metadata": {},
   "source": [
    "### *¿Cuál es la bebida favorita de los estudiantes que participan en el Censo escolar en cada estado?*\n",
    "\n",
    "De los estudiantes que participan en el Censo escolar, se puede determinar que la bebida favorita en todos los estados es **el agua**."
   ]
  },
  {
   "cell_type": "code",
   "execution_count": 175,
   "metadata": {},
   "outputs": [
    {
     "data": {
      "text/html": [
       "<div>\n",
       "<style scoped>\n",
       "    .dataframe tbody tr th:only-of-type {\n",
       "        vertical-align: middle;\n",
       "    }\n",
       "\n",
       "    .dataframe tbody tr th {\n",
       "        vertical-align: top;\n",
       "    }\n",
       "\n",
       "    .dataframe thead th {\n",
       "        text-align: right;\n",
       "    }\n",
       "</style>\n",
       "<table border=\"1\" class=\"dataframe\">\n",
       "  <thead>\n",
       "    <tr style=\"text-align: right;\">\n",
       "      <th></th>\n",
       "      <th>Region</th>\n",
       "      <th>Bebida_Favorita</th>\n",
       "      <th>Conteo</th>\n",
       "    </tr>\n",
       "  </thead>\n",
       "  <tbody>\n",
       "    <tr>\n",
       "      <th>0</th>\n",
       "      <td>CA</td>\n",
       "      <td>Water</td>\n",
       "      <td>280</td>\n",
       "    </tr>\n",
       "    <tr>\n",
       "      <th>1</th>\n",
       "      <td>FL</td>\n",
       "      <td>Water</td>\n",
       "      <td>255</td>\n",
       "    </tr>\n",
       "    <tr>\n",
       "      <th>2</th>\n",
       "      <td>NY</td>\n",
       "      <td>Water</td>\n",
       "      <td>260</td>\n",
       "    </tr>\n",
       "    <tr>\n",
       "      <th>3</th>\n",
       "      <td>TX</td>\n",
       "      <td>Water</td>\n",
       "      <td>235</td>\n",
       "    </tr>\n",
       "  </tbody>\n",
       "</table>\n",
       "</div>"
      ],
      "text/plain": [
       "  Region Bebida_Favorita  Conteo\n",
       "0     CA           Water     280\n",
       "1     FL           Water     255\n",
       "2     NY           Water     260\n",
       "3     TX           Water     235"
      ]
     },
     "execution_count": 175,
     "metadata": {},
     "output_type": "execute_result"
    }
   ],
   "source": [
    "conteo_bebidas_favoritas = (df.groupby([\"Region\", \"Beverage\"]).size()\n",
    "                                       .reset_index(name='Count'))\n",
    "\n",
    "bebida_favorita_por_estado = conteo_bebidas_favoritas.groupby('Region').agg(\n",
    "    Bebida_Favorita=('Beverage', lambda x: x.loc[x.idxmax()]),\n",
    "    Conteo=('Count', 'max')\n",
    ").reset_index()\n",
    "\n",
    "bebida_favorita_por_estado"
   ]
  },
  {
   "cell_type": "markdown",
   "metadata": {},
   "source": [
    "### *¿Cuál es el deporte / actividad favorita de los estudiantes que participan en el Censo escolar en cada estado?*\n",
    "\n",
    "De los estudiantes que participan en el Censo escolar, se puede determinar que la actividad física favorita de todos ellos es **caminar o hacer senderismo**."
   ]
  },
  {
   "cell_type": "code",
   "execution_count": 176,
   "metadata": {},
   "outputs": [
    {
     "data": {
      "text/html": [
       "<div>\n",
       "<style scoped>\n",
       "    .dataframe tbody tr th:only-of-type {\n",
       "        vertical-align: middle;\n",
       "    }\n",
       "\n",
       "    .dataframe tbody tr th {\n",
       "        vertical-align: top;\n",
       "    }\n",
       "\n",
       "    .dataframe thead th {\n",
       "        text-align: right;\n",
       "    }\n",
       "</style>\n",
       "<table border=\"1\" class=\"dataframe\">\n",
       "  <thead>\n",
       "    <tr style=\"text-align: right;\">\n",
       "      <th></th>\n",
       "      <th>Region</th>\n",
       "      <th>Deporte_Favorito</th>\n",
       "      <th>Conteo</th>\n",
       "    </tr>\n",
       "  </thead>\n",
       "  <tbody>\n",
       "    <tr>\n",
       "      <th>0</th>\n",
       "      <td>CA</td>\n",
       "      <td>Walking/Hiking</td>\n",
       "      <td>49</td>\n",
       "    </tr>\n",
       "    <tr>\n",
       "      <th>1</th>\n",
       "      <td>FL</td>\n",
       "      <td>Walking/Hiking</td>\n",
       "      <td>60</td>\n",
       "    </tr>\n",
       "    <tr>\n",
       "      <th>2</th>\n",
       "      <td>NY</td>\n",
       "      <td>Walking/Hiking</td>\n",
       "      <td>48</td>\n",
       "    </tr>\n",
       "    <tr>\n",
       "      <th>3</th>\n",
       "      <td>TX</td>\n",
       "      <td>Walking/Hiking</td>\n",
       "      <td>54</td>\n",
       "    </tr>\n",
       "  </tbody>\n",
       "</table>\n",
       "</div>"
      ],
      "text/plain": [
       "  Region Deporte_Favorito  Conteo\n",
       "0     CA   Walking/Hiking      49\n",
       "1     FL   Walking/Hiking      60\n",
       "2     NY   Walking/Hiking      48\n",
       "3     TX   Walking/Hiking      54"
      ]
     },
     "execution_count": 176,
     "metadata": {},
     "output_type": "execute_result"
    }
   ],
   "source": [
    "conteo_deporte_favorito = (df.groupby([\"Region\", \"Favourite_physical_activity\"]).size()\n",
    "                                        .reset_index(name='Count'))\n",
    "\n",
    "deporte_favorito_por_estado = conteo_deporte_favorito.groupby('Region').agg(\n",
    "    Deporte_Favorito=('Favourite_physical_activity', lambda x: x.loc[x.idxmax()]),\n",
    "    Conteo=('Count', 'max')\n",
    ").reset_index()\n",
    "\n",
    "deporte_favorito_por_estado"
   ]
  },
  {
   "cell_type": "markdown",
   "metadata": {},
   "source": [
    "### *¿Cuál es el nivel más alto de educación que planean alcanzar los estudiantes que participan en el Censo escolar en cada estado?*\n",
    "\n",
    "De los estudiantes que participan en el Censo escolar, se puede determinar que el nivel más alto de educación que planean alcanzar los estudiantes es **la licenciatura o Undergraduate degree**."
   ]
  },
  {
   "cell_type": "code",
   "execution_count": 177,
   "metadata": {},
   "outputs": [
    {
     "data": {
      "text/html": [
       "<div>\n",
       "<style scoped>\n",
       "    .dataframe tbody tr th:only-of-type {\n",
       "        vertical-align: middle;\n",
       "    }\n",
       "\n",
       "    .dataframe tbody tr th {\n",
       "        vertical-align: top;\n",
       "    }\n",
       "\n",
       "    .dataframe thead th {\n",
       "        text-align: right;\n",
       "    }\n",
       "</style>\n",
       "<table border=\"1\" class=\"dataframe\">\n",
       "  <thead>\n",
       "    <tr style=\"text-align: right;\">\n",
       "      <th></th>\n",
       "      <th>Region</th>\n",
       "      <th>Nivel_Educacion_Deseado</th>\n",
       "      <th>Conteo</th>\n",
       "    </tr>\n",
       "  </thead>\n",
       "  <tbody>\n",
       "    <tr>\n",
       "      <th>0</th>\n",
       "      <td>CA</td>\n",
       "      <td>Undergraduate degree</td>\n",
       "      <td>257</td>\n",
       "    </tr>\n",
       "    <tr>\n",
       "      <th>1</th>\n",
       "      <td>FL</td>\n",
       "      <td>Undergraduate degree</td>\n",
       "      <td>270</td>\n",
       "    </tr>\n",
       "    <tr>\n",
       "      <th>2</th>\n",
       "      <td>NY</td>\n",
       "      <td>Undergraduate degree</td>\n",
       "      <td>265</td>\n",
       "    </tr>\n",
       "    <tr>\n",
       "      <th>3</th>\n",
       "      <td>TX</td>\n",
       "      <td>Undergraduate degree</td>\n",
       "      <td>215</td>\n",
       "    </tr>\n",
       "  </tbody>\n",
       "</table>\n",
       "</div>"
      ],
      "text/plain": [
       "  Region Nivel_Educacion_Deseado  Conteo\n",
       "0     CA    Undergraduate degree     257\n",
       "1     FL    Undergraduate degree     270\n",
       "2     NY    Undergraduate degree     265\n",
       "3     TX    Undergraduate degree     215"
      ]
     },
     "execution_count": 177,
     "metadata": {},
     "output_type": "execute_result"
    }
   ],
   "source": [
    "conteo_nivel_educacion_deseado = (df.groupby([\"Region\", \"Planned_Education_Level\"]).size()\n",
    "                                        .reset_index(name='Count'))\n",
    "\n",
    "nivel_educacion_deseado_por_estado = conteo_nivel_educacion_deseado.groupby('Region').agg(\n",
    "    Nivel_Educacion_Deseado=('Planned_Education_Level', lambda x: x.loc[x.idxmax()]),\n",
    "    Conteo=('Count', 'max')\n",
    ").reset_index()\n",
    "\n",
    "nivel_educacion_deseado_por_estado"
   ]
  }
 ],
 "metadata": {
  "kernelspec": {
   "display_name": "Python 3",
   "language": "python",
   "name": "python3"
  },
  "language_info": {
   "codemirror_mode": {
    "name": "ipython",
    "version": 3
   },
   "file_extension": ".py",
   "mimetype": "text/x-python",
   "name": "python",
   "nbconvert_exporter": "python",
   "pygments_lexer": "ipython3",
   "version": "3.12.3"
  }
 },
 "nbformat": 4,
 "nbformat_minor": 2
}
