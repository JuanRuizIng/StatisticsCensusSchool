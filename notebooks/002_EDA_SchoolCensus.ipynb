{
 "cells": [
  {
   "cell_type": "markdown",
   "metadata": {},
   "source": [
    "# ***U.S Census At School - Analyzing the Data***\n",
    "---\n",
    "\n",
    "*José Carrera - 2215335*\n",
    "\n",
    "*Martín García - 2230436*\n",
    "\n",
    "*David Melo - 2230232*\n",
    "\n",
    "*Juan Andrés Ruiz - 2230557*"
   ]
  },
  {
   "cell_type": "markdown",
   "metadata": {},
   "source": [
    "## ***Preparación y Exploración de Datos***"
   ]
  },
  {
   "cell_type": "markdown",
   "metadata": {},
   "source": [
    "### **Importando las librerías**"
   ]
  },
  {
   "cell_type": "code",
   "execution_count": 1,
   "metadata": {},
   "outputs": [],
   "source": [
    "import pandas as pd\n",
    "import matplotlib.pyplot as plt\n",
    "import seaborn as sns\n",
    "import numpy as np\n",
    "import scipy.stats as stats\n",
    "\n",
    "\n",
    "plt.style.use('ggplot')"
   ]
  },
  {
   "cell_type": "markdown",
   "metadata": {},
   "source": [
    "### **Leyendo el dataframe y mostrando las primeras filas**"
   ]
  },
  {
   "cell_type": "code",
   "execution_count": 2,
   "metadata": {},
   "outputs": [],
   "source": [
    "df = pd.read_csv(\"../data/merged_data.csv\")"
   ]
  },
  {
   "cell_type": "code",
   "execution_count": 3,
   "metadata": {},
   "outputs": [
    {
     "data": {
      "text/html": [
       "<div>\n",
       "<style scoped>\n",
       "    .dataframe tbody tr th:only-of-type {\n",
       "        vertical-align: middle;\n",
       "    }\n",
       "\n",
       "    .dataframe tbody tr th {\n",
       "        vertical-align: top;\n",
       "    }\n",
       "\n",
       "    .dataframe thead th {\n",
       "        text-align: right;\n",
       "    }\n",
       "</style>\n",
       "<table border=\"1\" class=\"dataframe\">\n",
       "  <thead>\n",
       "    <tr style=\"text-align: right;\">\n",
       "      <th></th>\n",
       "      <th>Region</th>\n",
       "      <th>Gender</th>\n",
       "      <th>Handed</th>\n",
       "      <th>Favourite_physical_activity</th>\n",
       "      <th>Importance_reducing_pollution</th>\n",
       "      <th>Birth_month</th>\n",
       "      <th>Beverage</th>\n",
       "      <th>Favorite_School_Subject</th>\n",
       "      <th>Sleep_Hours_Non_Schoolnight</th>\n",
       "      <th>Paid_Work_Hours</th>\n",
       "      <th>Work_At_Home_Hours</th>\n",
       "      <th>Planned_Education_Level</th>\n",
       "    </tr>\n",
       "  </thead>\n",
       "  <tbody>\n",
       "    <tr>\n",
       "      <th>0</th>\n",
       "      <td>CA</td>\n",
       "      <td>Male</td>\n",
       "      <td>Right-Handed</td>\n",
       "      <td>Running/Jogging</td>\n",
       "      <td>1000</td>\n",
       "      <td>April</td>\n",
       "      <td>Water</td>\n",
       "      <td>Computers and technology</td>\n",
       "      <td>11</td>\n",
       "      <td>0</td>\n",
       "      <td>10</td>\n",
       "      <td>Undergraduate degree</td>\n",
       "    </tr>\n",
       "    <tr>\n",
       "      <th>1</th>\n",
       "      <td>CA</td>\n",
       "      <td>Male</td>\n",
       "      <td>Right-Handed</td>\n",
       "      <td>Walking/Hiking</td>\n",
       "      <td>1000</td>\n",
       "      <td>May</td>\n",
       "      <td>Water</td>\n",
       "      <td>Science</td>\n",
       "      <td>12</td>\n",
       "      <td>0</td>\n",
       "      <td>7</td>\n",
       "      <td>Graduate degree</td>\n",
       "    </tr>\n",
       "    <tr>\n",
       "      <th>2</th>\n",
       "      <td>CA</td>\n",
       "      <td>Male</td>\n",
       "      <td>Right-Handed</td>\n",
       "      <td>Soccer</td>\n",
       "      <td>1000</td>\n",
       "      <td>June</td>\n",
       "      <td>Water</td>\n",
       "      <td>Mathematics and statistics</td>\n",
       "      <td>10</td>\n",
       "      <td>0</td>\n",
       "      <td>6</td>\n",
       "      <td>Some college</td>\n",
       "    </tr>\n",
       "    <tr>\n",
       "      <th>3</th>\n",
       "      <td>CA</td>\n",
       "      <td>Male</td>\n",
       "      <td>Right-Handed</td>\n",
       "      <td>Swimming</td>\n",
       "      <td>1000</td>\n",
       "      <td>June</td>\n",
       "      <td>Water</td>\n",
       "      <td>Physical education</td>\n",
       "      <td>8</td>\n",
       "      <td>0</td>\n",
       "      <td>7</td>\n",
       "      <td>Other</td>\n",
       "    </tr>\n",
       "    <tr>\n",
       "      <th>4</th>\n",
       "      <td>CA</td>\n",
       "      <td>Male</td>\n",
       "      <td>Right-Handed</td>\n",
       "      <td>Basketball</td>\n",
       "      <td>900</td>\n",
       "      <td>July</td>\n",
       "      <td>Water</td>\n",
       "      <td>English</td>\n",
       "      <td>9</td>\n",
       "      <td>0</td>\n",
       "      <td>4</td>\n",
       "      <td>Graduate degree</td>\n",
       "    </tr>\n",
       "    <tr>\n",
       "      <th>5</th>\n",
       "      <td>CA</td>\n",
       "      <td>Male</td>\n",
       "      <td>Right-Handed</td>\n",
       "      <td>Swimming</td>\n",
       "      <td>0</td>\n",
       "      <td>August</td>\n",
       "      <td>Water</td>\n",
       "      <td>Mathematics and statistics</td>\n",
       "      <td>8</td>\n",
       "      <td>0</td>\n",
       "      <td>3</td>\n",
       "      <td>Graduate degree</td>\n",
       "    </tr>\n",
       "    <tr>\n",
       "      <th>6</th>\n",
       "      <td>CA</td>\n",
       "      <td>Female</td>\n",
       "      <td>Right-Handed</td>\n",
       "      <td>Martial Arts</td>\n",
       "      <td>989</td>\n",
       "      <td>August</td>\n",
       "      <td>Water</td>\n",
       "      <td>Art</td>\n",
       "      <td>9</td>\n",
       "      <td>0</td>\n",
       "      <td>3</td>\n",
       "      <td>Graduate degree</td>\n",
       "    </tr>\n",
       "    <tr>\n",
       "      <th>7</th>\n",
       "      <td>CA</td>\n",
       "      <td>Female</td>\n",
       "      <td>Right-Handed</td>\n",
       "      <td>Tennis</td>\n",
       "      <td>650</td>\n",
       "      <td>June</td>\n",
       "      <td>Water</td>\n",
       "      <td>History</td>\n",
       "      <td>11</td>\n",
       "      <td>17</td>\n",
       "      <td>7</td>\n",
       "      <td>Graduate degree</td>\n",
       "    </tr>\n",
       "    <tr>\n",
       "      <th>8</th>\n",
       "      <td>CA</td>\n",
       "      <td>Male</td>\n",
       "      <td>Right-Handed</td>\n",
       "      <td>Athletics</td>\n",
       "      <td>1000</td>\n",
       "      <td>December</td>\n",
       "      <td>Water</td>\n",
       "      <td>Art</td>\n",
       "      <td>8</td>\n",
       "      <td>0</td>\n",
       "      <td>2</td>\n",
       "      <td>Some college</td>\n",
       "    </tr>\n",
       "    <tr>\n",
       "      <th>9</th>\n",
       "      <td>CA</td>\n",
       "      <td>Male</td>\n",
       "      <td>Right-Handed</td>\n",
       "      <td>Soccer</td>\n",
       "      <td>91</td>\n",
       "      <td>September</td>\n",
       "      <td>Water</td>\n",
       "      <td>History</td>\n",
       "      <td>7</td>\n",
       "      <td>14</td>\n",
       "      <td>10</td>\n",
       "      <td>Graduate degree</td>\n",
       "    </tr>\n",
       "  </tbody>\n",
       "</table>\n",
       "</div>"
      ],
      "text/plain": [
       "  Region  Gender        Handed Favourite_physical_activity  \\\n",
       "0     CA    Male  Right-Handed             Running/Jogging   \n",
       "1     CA    Male  Right-Handed              Walking/Hiking   \n",
       "2     CA    Male  Right-Handed                      Soccer   \n",
       "3     CA    Male  Right-Handed                    Swimming   \n",
       "4     CA    Male  Right-Handed                  Basketball   \n",
       "5     CA    Male  Right-Handed                    Swimming   \n",
       "6     CA  Female  Right-Handed                Martial Arts   \n",
       "7     CA  Female  Right-Handed                      Tennis   \n",
       "8     CA    Male  Right-Handed                   Athletics   \n",
       "9     CA    Male  Right-Handed                      Soccer   \n",
       "\n",
       "   Importance_reducing_pollution Birth_month Beverage  \\\n",
       "0                           1000       April    Water   \n",
       "1                           1000         May    Water   \n",
       "2                           1000        June    Water   \n",
       "3                           1000        June    Water   \n",
       "4                            900        July    Water   \n",
       "5                              0      August    Water   \n",
       "6                            989      August    Water   \n",
       "7                            650        June    Water   \n",
       "8                           1000    December    Water   \n",
       "9                             91   September    Water   \n",
       "\n",
       "      Favorite_School_Subject  Sleep_Hours_Non_Schoolnight  Paid_Work_Hours  \\\n",
       "0    Computers and technology                           11                0   \n",
       "1                     Science                           12                0   \n",
       "2  Mathematics and statistics                           10                0   \n",
       "3          Physical education                            8                0   \n",
       "4                     English                            9                0   \n",
       "5  Mathematics and statistics                            8                0   \n",
       "6                         Art                            9                0   \n",
       "7                     History                           11               17   \n",
       "8                         Art                            8                0   \n",
       "9                     History                            7               14   \n",
       "\n",
       "   Work_At_Home_Hours Planned_Education_Level  \n",
       "0                  10    Undergraduate degree  \n",
       "1                   7         Graduate degree  \n",
       "2                   6            Some college  \n",
       "3                   7                   Other  \n",
       "4                   4         Graduate degree  \n",
       "5                   3         Graduate degree  \n",
       "6                   3         Graduate degree  \n",
       "7                   7         Graduate degree  \n",
       "8                   2            Some college  \n",
       "9                  10         Graduate degree  "
      ]
     },
     "execution_count": 3,
     "metadata": {},
     "output_type": "execute_result"
    }
   ],
   "source": [
    "df.head(10)"
   ]
  },
  {
   "cell_type": "markdown",
   "metadata": {},
   "source": [
    "### **Mostrando sus dimensiones**"
   ]
  },
  {
   "cell_type": "code",
   "execution_count": 4,
   "metadata": {},
   "outputs": [
    {
     "name": "stdout",
     "output_type": "stream",
     "text": [
      "El dataset tiene 1443 filas y 12 columnas.\n"
     ]
    }
   ],
   "source": [
    "filas = df.shape[0]\n",
    "columnas = df.shape[1]\n",
    "\n",
    "print(f\"El dataset tiene {filas} filas y {columnas} columnas.\")"
   ]
  },
  {
   "cell_type": "markdown",
   "metadata": {},
   "source": [
    "### **Tipos de variables**"
   ]
  },
  {
   "cell_type": "code",
   "execution_count": 5,
   "metadata": {},
   "outputs": [
    {
     "name": "stdout",
     "output_type": "stream",
     "text": [
      "<class 'pandas.core.frame.DataFrame'>\n",
      "RangeIndex: 1443 entries, 0 to 1442\n",
      "Data columns (total 12 columns):\n",
      " #   Column                         Non-Null Count  Dtype \n",
      "---  ------                         --------------  ----- \n",
      " 0   Region                         1443 non-null   object\n",
      " 1   Gender                         1443 non-null   object\n",
      " 2   Handed                         1443 non-null   object\n",
      " 3   Favourite_physical_activity    1443 non-null   object\n",
      " 4   Importance_reducing_pollution  1443 non-null   int64 \n",
      " 5   Birth_month                    1443 non-null   object\n",
      " 6   Beverage                       1443 non-null   object\n",
      " 7   Favorite_School_Subject        1443 non-null   object\n",
      " 8   Sleep_Hours_Non_Schoolnight    1443 non-null   int64 \n",
      " 9   Paid_Work_Hours                1443 non-null   int64 \n",
      " 10  Work_At_Home_Hours             1443 non-null   int64 \n",
      " 11  Planned_Education_Level        1443 non-null   object\n",
      "dtypes: int64(4), object(8)\n",
      "memory usage: 135.4+ KB\n"
     ]
    }
   ],
   "source": [
    "df.info()"
   ]
  },
  {
   "cell_type": "code",
   "execution_count": 6,
   "metadata": {},
   "outputs": [
    {
     "data": {
      "text/plain": [
       "Sleep_Hours_Non_Schoolnight\n",
       "10    345\n",
       "9     318\n",
       "8     282\n",
       "7     107\n",
       "12     98\n",
       "11     81\n",
       "6      76\n",
       "5      53\n",
       "4      34\n",
       "3      19\n",
       "13     10\n",
       "14      6\n",
       "15      5\n",
       "2       5\n",
       "1       4\n",
       "Name: count, dtype: int64"
      ]
     },
     "execution_count": 6,
     "metadata": {},
     "output_type": "execute_result"
    }
   ],
   "source": [
    "df[\"Sleep_Hours_Non_Schoolnight\"].value_counts()"
   ]
  },
  {
   "cell_type": "markdown",
   "metadata": {},
   "source": [
    "### **Sobre el dataset**"
   ]
  },
  {
   "cell_type": "markdown",
   "metadata": {},
   "source": [
    "#### ***a) Unidad de estudio***\n",
    "La unidad de estudio en este caso corresponde a cada estudiante individual que respondió al cuestionario \"*Census at School*\". Cada fila del dataset representa un estudiante con sus respectivas características.\n",
    "\n",
    "#### ***b) Población objeto de estudio***\n",
    "La población objeto de estudio son los estudiantes de los Estados Unidos que participaron en el cuestionario \"*Census at School*\". Esta población incluye a estudiantes de diversas edades, géneros, y características socioeconómicas, aunque en este análisis se centró en un subconjunto específico de estudiantes (de 500 por cada estado seleccionado).\n",
    "\n",
    "#### ***c) Muestra de estudio***\n",
    "La muestra de estudio es un subconjunto de estudiantes que se seleccionó de la población original. Este archivo tiene 12 columnas, puesto que se han reducido las variables de interés para podernos concentrar en aspectos específicos para el análisis. \n",
    "\n",
    "#### ***d) Variable de análisis***\n",
    "Las variables de análisis son las columnas del dataset que iremos a analizar a continuación. Cada columna en el archivo CSV representa una variable distinta que se analizará. Estas variables pueden incluir edad, género, tiempos de viaje a la escuela, altura, y otros atributos de los estudiantes según el cuestionario original.\n",
    "\n",
    "#### ***e) Tipo de variables y su escala de medición***\n",
    "\n",
    "##### **Tipo de Variables**\n",
    "\n",
    "***Categóricas***: Variables que representan categorías o grupos, como \"Género\" (Male, Female), \"Método de transporte\" (Car, Bus, etc.).\n",
    "\n",
    "***Numéricas***:\n",
    "* **Discretas**: Contadores como  la cantidad de personas en el hogar.\n",
    "* **Continuas**: Medidas como altura, tiempo de viaje, etc.\n",
    "\n",
    "##### **Escala de Medición**\n",
    "\n",
    "***Nominal***: Categorías sin un orden intrínseco (*por ejemplo, \"**Género**\"*).\n",
    "\n",
    "***Ordinal***: Categorías con un orden lógico (*aunque no siempre numérico; por ejemplo, \"**Nivel de educación planeado**\"*).\n",
    "\n",
    "***Intervalo***: Variables numéricas donde las diferencias son significativas, pero no hay un verdadero cero (*no aplicable en el dataset*).\n",
    "\n",
    "***Razón***: Variables numéricas con un verdadero cero, como altura, tiempo, etc.\n",
    "\n",
    "#### ***f) Variables clave para el análisis***\n",
    "\n",
    "* ***Region*** (Estado): Útil para segmentar los resultados de los análisis geográficamente.\n",
    "\n",
    "* ***Gender*** (*Género*): Es fundamental para realizar comparaciones entre hombres y mujeres en diversas actividades y preferencias.\n",
    "\n",
    "* ***Favourite_physical_activity*** (*Actividad física favorita*): Permite identificar patrones en las preferencias deportivas y cómo estas se relacionan con otras variables como el género o la región.\n",
    "\n",
    "* ***Importance_reducing_pollution*** (*Importancia de reducir la contaminación*): Es una variable ordinal que se puede analizar en relación con otras variables como la educación planificada o el género.\n",
    "\n",
    "* **Sleep_Hours_Non_Schoolnight** (*Horas de sueño en noches sin clases*): Importante para analizar hábitos de sueño y cómo estos varían según otras características.\n",
    "\n",
    "* ***Paid_Work_Hours*** (*Horas trabajadas con pago*): Se puede usar para entender cómo los estudiantes distribuyen su tiempo entre el trabajo y otras actividades.\n",
    "\n",
    "* ***Planned_Education_Level*** (*Nivel de educación planificado*): Esta variable ofrece insights sobre las aspiraciones académicas y se puede cruzar con variables como el género o el mes de nacimiento."
   ]
  },
  {
   "cell_type": "markdown",
   "metadata": {},
   "source": [
    "## ***Análisis Descriptivo de los Datos***"
   ]
  },
  {
   "cell_type": "markdown",
   "metadata": {},
   "source": [
    "### *1. ¿Cuántos estudiantes son diestros, zurdos o ambidiestros?*\n",
    "Existen **1250** estudiantes que son *diestros*, **134** que son *zurdos* y **59** que manejan ambas manos (*ambidiestros*)."
   ]
  },
  {
   "cell_type": "code",
   "execution_count": 7,
   "metadata": {},
   "outputs": [],
   "source": [
    "conteo_mano_dominante = df[\"Handed\"].value_counts()"
   ]
  },
  {
   "cell_type": "code",
   "execution_count": 8,
   "metadata": {},
   "outputs": [
    {
     "data": {
      "image/png": "[encoded data removed]",
      "text/plain": [
       "<Figure size 640x480 with 1 Axes>"
      ]
     },
     "metadata": {},
     "output_type": "display_data"
    }
   ],
   "source": [
    "conteo_mano_dominante.plot(kind=\"bar\")\n",
    "\n",
    "for i, value in enumerate(conteo_mano_dominante):\n",
    "    plt.text(i, value, str(value), ha = 'center', va = 'bottom')\n",
    "\n",
    "plt.title(\"Mano dominante de los estudiantes\")\n",
    "plt.xlabel(\"Mano dominante\")\n",
    "plt.ylabel(\"Cantidad de estudiantes\")\n",
    "\n",
    "plt.show()"
   ]
  },
  {
   "cell_type": "markdown",
   "metadata": {},
   "source": [
    "### *2. ¿Cuál es el mes donde nacieron más estudiantes de los que participan en el Censo escolar en cada estado?*\n",
    "\n",
    "De los estudiantes que participan en el Censo escolar, se puede determinar que el mes donde más nacieron estudiantes en todos los estados fue **Septiembre**."
   ]
  },
  {
   "cell_type": "code",
   "execution_count": 9,
   "metadata": {},
   "outputs": [
    {
     "data": {
      "text/html": [
       "<div>\n",
       "<style scoped>\n",
       "    .dataframe tbody tr th:only-of-type {\n",
       "        vertical-align: middle;\n",
       "    }\n",
       "\n",
       "    .dataframe tbody tr th {\n",
       "        vertical-align: top;\n",
       "    }\n",
       "\n",
       "    .dataframe thead th {\n",
       "        text-align: right;\n",
       "    }\n",
       "</style>\n",
       "<table border=\"1\" class=\"dataframe\">\n",
       "  <thead>\n",
       "    <tr style=\"text-align: right;\">\n",
       "      <th></th>\n",
       "      <th>Region</th>\n",
       "      <th>Mes_Nacimiento</th>\n",
       "      <th>Conteo</th>\n",
       "    </tr>\n",
       "  </thead>\n",
       "  <tbody>\n",
       "    <tr>\n",
       "      <th>0</th>\n",
       "      <td>CA</td>\n",
       "      <td>September</td>\n",
       "      <td>38</td>\n",
       "    </tr>\n",
       "    <tr>\n",
       "      <th>1</th>\n",
       "      <td>FL</td>\n",
       "      <td>September</td>\n",
       "      <td>38</td>\n",
       "    </tr>\n",
       "    <tr>\n",
       "      <th>2</th>\n",
       "      <td>NY</td>\n",
       "      <td>September</td>\n",
       "      <td>41</td>\n",
       "    </tr>\n",
       "    <tr>\n",
       "      <th>3</th>\n",
       "      <td>TX</td>\n",
       "      <td>September</td>\n",
       "      <td>38</td>\n",
       "    </tr>\n",
       "  </tbody>\n",
       "</table>\n",
       "</div>"
      ],
      "text/plain": [
       "  Region Mes_Nacimiento  Conteo\n",
       "0     CA      September      38\n",
       "1     FL      September      38\n",
       "2     NY      September      41\n",
       "3     TX      September      38"
      ]
     },
     "execution_count": 9,
     "metadata": {},
     "output_type": "execute_result"
    }
   ],
   "source": [
    "conteo_nacimientos_por_mes = (df.groupby(['Region', 'Birth_month']).size()\n",
    "                            .reset_index(name='Count'))\n",
    "\n",
    "mes_más_comun_por_estado = conteo_nacimientos_por_mes.groupby('Region').agg(\n",
    "    Mes_Nacimiento=('Birth_month', lambda x: x.loc[x.idxmax()]),\n",
    "    Conteo=('Count', 'max')\n",
    ").reset_index()\n",
    "\n",
    "mes_más_comun_por_estado"
   ]
  },
  {
   "cell_type": "markdown",
   "metadata": {},
   "source": [
    "### *3. ¿Cuál es la bebida favorita de los estudiantes que participan en el Censo escolar en cada estado?*\n",
    "\n",
    "De los estudiantes que participan en el Censo escolar, se puede determinar que la bebida favorita en todos los estados es **el agua**."
   ]
  },
  {
   "cell_type": "code",
   "execution_count": 10,
   "metadata": {},
   "outputs": [
    {
     "data": {
      "text/html": [
       "<div>\n",
       "<style scoped>\n",
       "    .dataframe tbody tr th:only-of-type {\n",
       "        vertical-align: middle;\n",
       "    }\n",
       "\n",
       "    .dataframe tbody tr th {\n",
       "        vertical-align: top;\n",
       "    }\n",
       "\n",
       "    .dataframe thead th {\n",
       "        text-align: right;\n",
       "    }\n",
       "</style>\n",
       "<table border=\"1\" class=\"dataframe\">\n",
       "  <thead>\n",
       "    <tr style=\"text-align: right;\">\n",
       "      <th></th>\n",
       "      <th>Region</th>\n",
       "      <th>Bebida_Favorita</th>\n",
       "      <th>Conteo</th>\n",
       "    </tr>\n",
       "  </thead>\n",
       "  <tbody>\n",
       "    <tr>\n",
       "      <th>0</th>\n",
       "      <td>CA</td>\n",
       "      <td>Water</td>\n",
       "      <td>280</td>\n",
       "    </tr>\n",
       "    <tr>\n",
       "      <th>1</th>\n",
       "      <td>FL</td>\n",
       "      <td>Water</td>\n",
       "      <td>255</td>\n",
       "    </tr>\n",
       "    <tr>\n",
       "      <th>2</th>\n",
       "      <td>NY</td>\n",
       "      <td>Water</td>\n",
       "      <td>260</td>\n",
       "    </tr>\n",
       "    <tr>\n",
       "      <th>3</th>\n",
       "      <td>TX</td>\n",
       "      <td>Water</td>\n",
       "      <td>235</td>\n",
       "    </tr>\n",
       "  </tbody>\n",
       "</table>\n",
       "</div>"
      ],
      "text/plain": [
       "  Region Bebida_Favorita  Conteo\n",
       "0     CA           Water     280\n",
       "1     FL           Water     255\n",
       "2     NY           Water     260\n",
       "3     TX           Water     235"
      ]
     },
     "execution_count": 10,
     "metadata": {},
     "output_type": "execute_result"
    }
   ],
   "source": [
    "conteo_bebidas_favoritas = (df.groupby([\"Region\", \"Beverage\"]).size()\n",
    "                                       .reset_index(name='Count'))\n",
    "\n",
    "bebida_favorita_por_estado = conteo_bebidas_favoritas.groupby('Region').agg(\n",
    "    Bebida_Favorita=('Beverage', lambda x: x.loc[x.idxmax()]),\n",
    "    Conteo=('Count', 'max')\n",
    ").reset_index()\n",
    "\n",
    "bebida_favorita_por_estado"
   ]
  },
  {
   "cell_type": "markdown",
   "metadata": {},
   "source": [
    "### *4. ¿Cuál es el deporte / actividad favorita de los estudiantes que participan en el Censo escolar en cada estado?*\n",
    "\n",
    "De los estudiantes que participan en el Censo escolar, se puede determinar que la actividad física favorita de todos ellos es **caminar o hacer senderismo**."
   ]
  },
  {
   "cell_type": "code",
   "execution_count": 11,
   "metadata": {},
   "outputs": [
    {
     "data": {
      "text/html": [
       "<div>\n",
       "<style scoped>\n",
       "    .dataframe tbody tr th:only-of-type {\n",
       "        vertical-align: middle;\n",
       "    }\n",
       "\n",
       "    .dataframe tbody tr th {\n",
       "        vertical-align: top;\n",
       "    }\n",
       "\n",
       "    .dataframe thead th {\n",
       "        text-align: right;\n",
       "    }\n",
       "</style>\n",
       "<table border=\"1\" class=\"dataframe\">\n",
       "  <thead>\n",
       "    <tr style=\"text-align: right;\">\n",
       "      <th></th>\n",
       "      <th>Region</th>\n",
       "      <th>Deporte_Favorito</th>\n",
       "      <th>Conteo</th>\n",
       "    </tr>\n",
       "  </thead>\n",
       "  <tbody>\n",
       "    <tr>\n",
       "      <th>0</th>\n",
       "      <td>CA</td>\n",
       "      <td>Walking/Hiking</td>\n",
       "      <td>49</td>\n",
       "    </tr>\n",
       "    <tr>\n",
       "      <th>1</th>\n",
       "      <td>FL</td>\n",
       "      <td>Walking/Hiking</td>\n",
       "      <td>60</td>\n",
       "    </tr>\n",
       "    <tr>\n",
       "      <th>2</th>\n",
       "      <td>NY</td>\n",
       "      <td>Walking/Hiking</td>\n",
       "      <td>48</td>\n",
       "    </tr>\n",
       "    <tr>\n",
       "      <th>3</th>\n",
       "      <td>TX</td>\n",
       "      <td>Walking/Hiking</td>\n",
       "      <td>54</td>\n",
       "    </tr>\n",
       "  </tbody>\n",
       "</table>\n",
       "</div>"
      ],
      "text/plain": [
       "  Region Deporte_Favorito  Conteo\n",
       "0     CA   Walking/Hiking      49\n",
       "1     FL   Walking/Hiking      60\n",
       "2     NY   Walking/Hiking      48\n",
       "3     TX   Walking/Hiking      54"
      ]
     },
     "execution_count": 11,
     "metadata": {},
     "output_type": "execute_result"
    }
   ],
   "source": [
    "conteo_deporte_favorito = (df.groupby([\"Region\", \"Favourite_physical_activity\"]).size()\n",
    "                                        .reset_index(name='Count'))\n",
    "\n",
    "deporte_favorito_por_estado = conteo_deporte_favorito.groupby('Region').agg(\n",
    "    Deporte_Favorito=('Favourite_physical_activity', lambda x: x.loc[x.idxmax()]),\n",
    "    Conteo=('Count', 'max')\n",
    ").reset_index()\n",
    "\n",
    "deporte_favorito_por_estado"
   ]
  },
  {
   "cell_type": "markdown",
   "metadata": {},
   "source": [
    "### *5. ¿Cuál es el nivel más alto de educación que planean alcanzar los estudiantes que participan en el Censo escolar en cada estado?*\n",
    "\n",
    "De los estudiantes que participan en el Censo escolar, se puede determinar que el nivel más alto de educación que planean alcanzar los estudiantes es **la licenciatura o Undergraduate degree**."
   ]
  },
  {
   "cell_type": "code",
   "execution_count": 12,
   "metadata": {},
   "outputs": [
    {
     "data": {
      "text/html": [
       "<div>\n",
       "<style scoped>\n",
       "    .dataframe tbody tr th:only-of-type {\n",
       "        vertical-align: middle;\n",
       "    }\n",
       "\n",
       "    .dataframe tbody tr th {\n",
       "        vertical-align: top;\n",
       "    }\n",
       "\n",
       "    .dataframe thead th {\n",
       "        text-align: right;\n",
       "    }\n",
       "</style>\n",
       "<table border=\"1\" class=\"dataframe\">\n",
       "  <thead>\n",
       "    <tr style=\"text-align: right;\">\n",
       "      <th></th>\n",
       "      <th>Region</th>\n",
       "      <th>Nivel_Educacion_Deseado</th>\n",
       "      <th>Conteo</th>\n",
       "    </tr>\n",
       "  </thead>\n",
       "  <tbody>\n",
       "    <tr>\n",
       "      <th>0</th>\n",
       "      <td>CA</td>\n",
       "      <td>Undergraduate degree</td>\n",
       "      <td>257</td>\n",
       "    </tr>\n",
       "    <tr>\n",
       "      <th>1</th>\n",
       "      <td>FL</td>\n",
       "      <td>Undergraduate degree</td>\n",
       "      <td>270</td>\n",
       "    </tr>\n",
       "    <tr>\n",
       "      <th>2</th>\n",
       "      <td>NY</td>\n",
       "      <td>Undergraduate degree</td>\n",
       "      <td>265</td>\n",
       "    </tr>\n",
       "    <tr>\n",
       "      <th>3</th>\n",
       "      <td>TX</td>\n",
       "      <td>Undergraduate degree</td>\n",
       "      <td>215</td>\n",
       "    </tr>\n",
       "  </tbody>\n",
       "</table>\n",
       "</div>"
      ],
      "text/plain": [
       "  Region Nivel_Educacion_Deseado  Conteo\n",
       "0     CA    Undergraduate degree     257\n",
       "1     FL    Undergraduate degree     270\n",
       "2     NY    Undergraduate degree     265\n",
       "3     TX    Undergraduate degree     215"
      ]
     },
     "execution_count": 12,
     "metadata": {},
     "output_type": "execute_result"
    }
   ],
   "source": [
    "conteo_nivel_educacion_deseado = (df.groupby([\"Region\", \"Planned_Education_Level\"]).size()\n",
    "                                        .reset_index(name='Count'))\n",
    "\n",
    "nivel_educacion_deseado_por_estado = conteo_nivel_educacion_deseado.groupby('Region').agg(\n",
    "    Nivel_Educacion_Deseado=('Planned_Education_Level', lambda x: x.loc[x.idxmax()]),\n",
    "    Conteo=('Count', 'max')\n",
    ").reset_index()\n",
    "\n",
    "nivel_educacion_deseado_por_estado"
   ]
  },
  {
   "cell_type": "markdown",
   "metadata": {},
   "source": [
    "### **6. Construya un histograma con la variable “tiempo que trabaja con pago el estudiante en la semana (medido en horas)” y a partir de esta gráfica responda las siguientes preguntas:**"
   ]
  },
  {
   "cell_type": "markdown",
   "metadata": {},
   "source": [
    "#### *a. ¿Qué porcentaje de los estudiantes de la muestra trabajan máximo 13 horas a la semana con pago?*\n"
   ]
  },
  {
   "cell_type": "markdown",
   "metadata": {},
   "source": [
    "Apróximadamente el 84.2% de los estudiantes trabajan máximo 13 horas a la semana con pago"
   ]
  },
  {
   "cell_type": "code",
   "execution_count": 13,
   "metadata": {},
   "outputs": [
    {
     "data": {
      "text/plain": [
       "(1443, 0, 64)"
      ]
     },
     "execution_count": 13,
     "metadata": {},
     "output_type": "execute_result"
    }
   ],
   "source": [
    "min_paid, max_paid = df['Paid_Work_Hours'].min(), df['Paid_Work_Hours'].max()\n",
    "\n",
    "total = len(df['Paid_Work_Hours'])\n",
    "total, min_paid, max_paid"
   ]
  },
  {
   "cell_type": "code",
   "execution_count": 14,
   "metadata": {},
   "outputs": [
    {
     "data": {
      "image/png": "[encoded data removed]",
      "text/plain": [
       "<Figure size 640x480 with 1 Axes>"
      ]
     },
     "metadata": {},
     "output_type": "display_data"
    }
   ],
   "source": [
    "# Definir la columna de interés y le damos el nombre de columna_horas\n",
    "columna_horas = 'Paid_Work_Hours'\n",
    "\n",
    "# Filtrar los datos para excluir los valores de 90\n",
    "df_filtrado = df[df[columna_horas] > 0]\n",
    "\n",
    "# Crear el histograma\n",
    "plt.hist(df_filtrado[columna_horas], bins=20, edgecolor='black')\n",
    "plt.title('Histograma de Horas Trabajadas con Pago por Semana (Excluyendo 0)')\n",
    "plt.xlabel('Horas Trabajadas')\n",
    "plt.ylabel('Frecuencia')\n",
    "plt.grid(axis='y', alpha=0.75)\n",
    "plt.show()"
   ]
  },
  {
   "cell_type": "markdown",
   "metadata": {},
   "source": [
    "Vemos que los valores apróximados de cada intervalo son:\n",
    "\n",
    "(0, 1]\t950\t\n",
    "\n",
    "(1, 2]\t36\t\n",
    "\n",
    "(2, 3]\t35\t\n",
    "\n",
    "(3, 4]\t26\t\n",
    "\n",
    "(4, 5]\t25\n",
    "\n",
    "(5, 6]\t30\n",
    "\n",
    "(6, 7]\t22\n",
    "\n",
    "(7, 8]\t10\n",
    "\n",
    "(8, 9]\t29\n",
    "\n",
    "(9, 10]\t5\n",
    "\n",
    "(10, 11]\t30\n",
    "\n",
    "(11, 12]\t5\n",
    "\n",
    "(12, 13]\t18\n",
    "\n",
    "Teniendo en cuenta estos valores realizamos la suma de las anteriores frecuencias absolutas / suma total de las frecuencias absolutas:\n",
    "(1215/1443)*100=84.20"
   ]
  },
  {
   "cell_type": "code",
   "execution_count": 15,
   "metadata": {},
   "outputs": [
    {
     "name": "stdout",
     "output_type": "stream",
     "text": [
      "Porcentaje de estudiantes que trabajan máximo 13 horas: 85.31%\n"
     ]
    }
   ],
   "source": [
    "porcentaje_max_13_horas = (df[df[columna_horas] <= 13].shape[0] / df.shape[0]) * 100\n",
    "print(f\"Porcentaje de estudiantes que trabajan máximo 13 horas: {porcentaje_max_13_horas:.2f}%\")\n"
   ]
  },
  {
   "cell_type": "code",
   "execution_count": 16,
   "metadata": {},
   "outputs": [
    {
     "name": "stdout",
     "output_type": "stream",
     "text": [
      "Porcentaje de estudiantes que trabajan mínimo 3 horas: 29.59%\n"
     ]
    }
   ],
   "source": [
    "porcentaje_min_3_horas = (df[df[columna_horas] >= 3].shape[0] / df.shape[0]) * 100\n",
    "print(f\"Porcentaje de estudiantes que trabajan mínimo 3 horas: {porcentaje_min_3_horas:.2f}%\")\n"
   ]
  },
  {
   "cell_type": "code",
   "execution_count": 17,
   "metadata": {},
   "outputs": [
    {
     "name": "stdout",
     "output_type": "stream",
     "text": [
      "El 20% de los estudiantes trabajan mínimo 0.00 horas con pago.\n"
     ]
    }
   ],
   "source": [
    "horas_min_20_percentil = df[columna_horas].quantile(0.2)\n",
    "print(f\"El 20% de los estudiantes trabajan mínimo {horas_min_20_percentil:.2f} horas con pago.\")\n"
   ]
  },
  {
   "cell_type": "code",
   "execution_count": 18,
   "metadata": {},
   "outputs": [
    {
     "name": "stdout",
     "output_type": "stream",
     "text": [
      "El 20% de los estudiantes trabajan máximo 8.00 horas con pago.\n"
     ]
    }
   ],
   "source": [
    "horas_max_20_percentil = df[columna_horas].quantile(0.8)\n",
    "print(f\"El 20% de los estudiantes trabajan máximo {horas_max_20_percentil:.2f} horas con pago.\")\n"
   ]
  },
  {
   "cell_type": "code",
   "execution_count": 19,
   "metadata": {},
   "outputs": [
    {
     "name": "stdout",
     "output_type": "stream",
     "text": [
      "La moda está en el intervalo que contiene: 0 horas.\n"
     ]
    }
   ],
   "source": [
    "moda = df[columna_horas].mode()[0]\n",
    "print(f\"La moda está en el intervalo que contiene: {moda} horas.\")\n"
   ]
  },
  {
   "cell_type": "code",
   "execution_count": 20,
   "metadata": {},
   "outputs": [
    {
     "name": "stdout",
     "output_type": "stream",
     "text": [
      "El 50% de los estudiantes trabajan máximo 0.00 horas con pago.\n"
     ]
    }
   ],
   "source": [
    "horas_max_50_percentil = df[columna_horas].quantile(0.5)\n",
    "print(f\"El 50% de los estudiantes trabajan máximo {horas_max_50_percentil:.2f} horas con pago.\")"
   ]
  },
  {
   "cell_type": "code",
   "execution_count": 21,
   "metadata": {},
   "outputs": [
    {
     "name": "stdout",
     "output_type": "stream",
     "text": [
      "En promedio, los estudiantes trabajan 4.77 horas con pago a la semana.\n",
      "La desviación estándar es 9.63 horas.\n"
     ]
    }
   ],
   "source": [
    "promedio_horas = df[columna_horas].mean()\n",
    "desviacion_estandar_horas = df[columna_horas].std()\n",
    "print(f\"En promedio, los estudiantes trabajan {promedio_horas:.2f} horas con pago a la semana.\")\n",
    "print(f\"La desviación estándar es {desviacion_estandar_horas:.2f} horas.\")\n"
   ]
  },
  {
   "cell_type": "code",
   "execution_count": 22,
   "metadata": {},
   "outputs": [
    {
     "name": "stdout",
     "output_type": "stream",
     "text": [
      "La variable tiene asimetría positiva.\n"
     ]
    }
   ],
   "source": [
    "asimetria = df[columna_horas].skew()\n",
    "if asimetria > 0:\n",
    "    print(\"La variable tiene asimetría positiva.\")\n",
    "elif asimetria < 0:\n",
    "    print(\"La variable tiene asimetría negativa.\")\n",
    "else:\n",
    "    print(\"La variable es simétrica.\")\n"
   ]
  },
  {
   "cell_type": "markdown",
   "metadata": {},
   "source": [
    "### *7. Construya una Ojiva para la variable “Tiempo que dedican los estudiantes para ayudar a los quehaceres del Hogar” y a partir de esta gráfica responda las siguientes preguntas:*"
   ]
  },
  {
   "cell_type": "code",
   "execution_count": 23,
   "metadata": {},
   "outputs": [],
   "source": [
    "tiempo_hogar = df['Work_At_Home_Hours']"
   ]
  },
  {
   "cell_type": "code",
   "execution_count": 24,
   "metadata": {},
   "outputs": [],
   "source": [
    "frecuencias = tiempo_hogar.value_counts().sort_index()\n",
    "frecuencias_acumuladas = frecuencias.cumsum()"
   ]
  },
  {
   "cell_type": "code",
   "execution_count": 25,
   "metadata": {},
   "outputs": [],
   "source": [
    "total_estudiantes = len(tiempo_hogar)\n",
    "porcentajes_acumulados = (frecuencias_acumuladas / total_estudiantes) * 100"
   ]
  },
  {
   "cell_type": "code",
   "execution_count": 26,
   "metadata": {},
   "outputs": [
    {
     "data": {
      "image/png": "[encoded data removed]",
      "text/plain": [
       "<Figure size 1000x600 with 1 Axes>"
      ]
     },
     "metadata": {},
     "output_type": "display_data"
    }
   ],
   "source": [
    "plt.figure(figsize=(10, 6))\n",
    "plt.plot(frecuencias_acumuladas.index, porcentajes_acumulados, marker='o', linestyle='-')\n",
    "plt.title('Ojiva: Tiempo dedicado a quehaceres del hogar')\n",
    "plt.xlabel('Horas dedicadas a los quehaceres del hogar')\n",
    "plt.ylabel('Porcentaje acumulado (%)')\n",
    "plt.grid(True)\n",
    "plt.show()\n"
   ]
  },
  {
   "cell_type": "code",
   "execution_count": 27,
   "metadata": {},
   "outputs": [
    {
     "name": "stdout",
     "output_type": "stream",
     "text": [
      "El porcentaje de los estudiantes que dedican mínimo 15 horas a la semana es: 4.30%\n",
      "El porcentaje de los estudiantes que dedican máximo 5 horas a la semana es: 79.21%\n",
      "El máximo número de horas que el 15% de los estudiantes ayudan en sus casas es: 0 horas\n",
      "El porcentaje de los estudiantes que ayudan en sus casas al menos 5 horas a la semana es: 30.84%\n",
      "El mínimo número de horas que el 35% de los estudiantes ayudan en sus casas es: 2 horas\n",
      "El intervalo de moda se encuentra en las horas: 2\n",
      "En promedio, los estudiantes ayudan en sus casas 4.10 horas a la semana con una desviación estándar de 5.88 horas.\n"
     ]
    }
   ],
   "source": [
    "# Pregunta a\n",
    "porcentaje_minimo_15_horas = 100 - porcentajes_acumulados[porcentajes_acumulados.index < 15].max()\n",
    "print(f\"El porcentaje de los estudiantes que dedican mínimo 15 horas a la semana es: {porcentaje_minimo_15_horas:.2f}%\")\n",
    "\n",
    "# Pregunta b\n",
    "porcentaje_maximo_5_horas = porcentajes_acumulados[porcentajes_acumulados.index <= 5].max()\n",
    "print(f\"El porcentaje de los estudiantes que dedican máximo 5 horas a la semana es: {porcentaje_maximo_5_horas:.2f}%\")\n",
    "\n",
    "# Pregunta c\n",
    "horas_maximas_15_por_ciento = frecuencias_acumuladas[frecuencias_acumuladas >= total_estudiantes * 0.15].idxmin()\n",
    "print(f\"El máximo número de horas que el 15% de los estudiantes ayudan en sus casas es: {horas_maximas_15_por_ciento} horas\")\n",
    "\n",
    "# Pregunta d\n",
    "porcentaje_al_menos_5_horas = 100 - porcentajes_acumulados[porcentajes_acumulados.index < 5].max()\n",
    "print(f\"El porcentaje de los estudiantes que ayudan en sus casas al menos 5 horas a la semana es: {porcentaje_al_menos_5_horas:.2f}%\")\n",
    "\n",
    "# Pregunta e\n",
    "horas_minimas_35_por_ciento = frecuencias_acumuladas[frecuencias_acumuladas >= total_estudiantes * 0.35].idxmin()\n",
    "print(f\"El mínimo número de horas que el 35% de los estudiantes ayudan en sus casas es: {horas_minimas_35_por_ciento} horas\")\n",
    "\n",
    "# Pregunta f\n",
    "moda_intervalo = tiempo_hogar.mode()[0]\n",
    "print(f\"El intervalo de moda se encuentra en las horas: {moda_intervalo}\")\n",
    "\n",
    "# Pregunta g\n",
    "media_horas = tiempo_hogar.mean()\n",
    "desviacion_estandar_horas = tiempo_hogar.std()\n",
    "print(f\"En promedio, los estudiantes ayudan en sus casas {media_horas:.2f} horas a la semana con una desviación estándar de {desviacion_estandar_horas:.2f} horas.\")\n"
   ]
  },
  {
   "cell_type": "markdown",
   "metadata": {},
   "source": [
    "### **8. Construya una gráfica de Diagrama de cajas para la comparar la opinión en los diferentes Estados de hombres y mujeres (Gender) con respecto a la importancia de reducir la contaminación (pollution) a partir de esta gráfica responda las siguientes preguntas:**"
   ]
  },
  {
   "cell_type": "code",
   "execution_count": 28,
   "metadata": {},
   "outputs": [
    {
     "data": {
      "image/png": "[encoded data removed]",
      "text/plain": [
       "<Figure size 1600x700 with 1 Axes>"
      ]
     },
     "metadata": {},
     "output_type": "display_data"
    }
   ],
   "source": [
    "# Crear el diagrama de cajas\n",
    "plt.figure(figsize=(16, 7))\n",
    "sns.boxplot(x='Region', y='Importance_reducing_pollution', hue='Gender', data=df, palette='Set2')\n",
    "\n",
    "# Títulos y etiquetas\n",
    "plt.title('Opinión sobre la importancia de reducir la contaminación por Estado y Género')\n",
    "plt.xlabel('Estado')\n",
    "plt.ylabel('Importancia de Reducir la Contaminación')\n",
    "plt.legend(title='Género')\n",
    "\n",
    "plt.show()"
   ]
  },
  {
   "cell_type": "markdown",
   "metadata": {},
   "source": [
    "#### *a. ¿En términos generales para quienes (hombres o mujeres) es más importante reducir la contaminación?*\n"
   ]
  },
  {
   "cell_type": "markdown",
   "metadata": {},
   "source": [
    "Podemos observar que, de manera general, la mediana de las mujeres se acerca más a la importancia de reducir la contaminación que el de los hombres, y su IQR en la gran mayoría de los casos se encuentra entre la máxima importancia (lo que puede significar que el 50% de los datos esten ahí a lo menos, una mayoría de datos que en este caso representa una mayoría de personas que opinan sobre el tema), cosa que en el caso de los hombres pasa solo en uno en los cuatro estados. Por lo tanto, para las mujeres, en términos generales, es más importante reducir la contaminación"
   ]
  },
  {
   "cell_type": "markdown",
   "metadata": {},
   "source": [
    "#### *b. ¿En términos generales en cuál Estado es más importante reducir la contaminación?*"
   ]
  },
  {
   "cell_type": "markdown",
   "metadata": {},
   "source": [
    "En términos generales se puede observar que en el Estado de California, tanto en hombres como mujeres, su IQR (lo que puede significar que el 50% de los datos esten ahí a lo menos, una mayoría de datos que en este caso representa una mayoría de personas que opinan sobre el tema) se mantiene entre el máximo de importancia para reducir la contaminación, que al compararlos con los IQR con otros estados, vemos que a lo menos uno los dos sexos presentan opiniones diversas sobre la importancia máximo de reducir la contaminación. Lo que significa que en términos generales en el Estado de California es más importante reducir la contaminación."
   ]
  },
  {
   "cell_type": "markdown",
   "metadata": {},
   "source": [
    "#### *c. ¿En términos generales en cuál Estado es más importante para las mujeres reducir la contaminación?*"
   ]
  },
  {
   "cell_type": "markdown",
   "metadata": {},
   "source": [
    "En términos generales para los mujeres del Estado de New York es más importante reducir la contaminación. A pesar de que el IQR del Estado de Texas y California se encuentren en el valor de máxima importancia de reducir la contaminación, la mediana de los datos en New York es la que más se acerca a este valor máximo, lo que nos puede indicar que con respecto a los estados anteriormente mencionados, el 50% de los mujeres a lo más, están aún más convencidos de la importancia de reducir la contaminación que el 50% de los mujeres a lo más de los diferentes estados."
   ]
  },
  {
   "cell_type": "markdown",
   "metadata": {},
   "source": [
    "#### *d. ¿En términos generales en cuál Estado es más importante para los hombres reducir la contaminación?*"
   ]
  },
  {
   "cell_type": "markdown",
   "metadata": {},
   "source": [
    "En términos generales para las hombres del Estado de California es más importante reducir la contaminación, ya que su IQR (donde se encuentra a lo menos el 50% de las opiniones, en este caso de las hombres sobre contaminación) se mantiene en la máxima importancia de reducir la contaminación (1000), cosa que no sucede en los otros estados. Además, su mediana frente a los demás estados es la que más le apunta a la máxima importancia de reducir la contaminación"
   ]
  },
  {
   "cell_type": "markdown",
   "metadata": {},
   "source": [
    "#### *e. ¿En términos generales en qué género la importancia de reducir la contaminación es más homogénea?*"
   ]
  },
  {
   "cell_type": "markdown",
   "metadata": {},
   "source": [
    "En términos generales las mujeres tienen opiniones más homogéneas que los hombres. Podemos observar que las mujeres tienen un IQR casi similar al de los hombres. Sin embargo, al ver los bigotes inferiores y superiores de las mujeres y hombres, podemos observar que solo en el caso de las mujeres, hay un estado que presenta bigote superior e inferior, no como en el caso de los hombres, que en tres estados presentan bigotes superiores e inferiores, lo que podría ser un indicativo de que en los hombres existe más dispersión en las opiniones sobre la importancia de reducir la contaminación, lo que conlleva a una variabilidad mayor en estas opiniones siendo menos homogenea en comparación de las mujeres, lo que sugiere que en las mujeres la opinion es menos dispera y no haya una variabilidad tan alta como la de los hombres."
   ]
  },
  {
   "cell_type": "markdown",
   "metadata": {},
   "source": [
    "#### *f. ¿En términos generales en cuál Estado la importancia de reducir la contaminación es más heterogénea?*"
   ]
  },
  {
   "cell_type": "markdown",
   "metadata": {},
   "source": [
    "En términos generales el Estado de Florida es más heterogéneo en la importancia de reducir la contaminación. Podemos observar que Florida es el único Estado en el que se presentan bigotes superiores e inferiores en los dos géneros. También tienen un IQR grande en comparación con algunos estados. Tomando en cuenta estas dos variables (bigotes e IQR), podríamos decir que en Florida la dispersión de opiniones sobre la importancia de reducir la contaminación es más alta, lo que puede indicar una mayor variabilidad en estas opiniones y por ende, ser el Estado en el que se presenta mayor heterogeneidad en las opiniones presentadas respecto a otros estados. "
   ]
  },
  {
   "cell_type": "markdown",
   "metadata": {},
   "source": [
    "#### *g. ¿En cuál género se presenta mayor asimetría en las calificaciones de la importancia de reducir la contaminación?*"
   ]
  },
  {
   "cell_type": "markdown",
   "metadata": {},
   "source": [
    "En términos generales las mujeres son las que presentan mayor asimetría en la calificación de la importancia de reducir la contaminación. En la gráfica podemos observar que, de los 4 estados, en 3 las mujeres presentan un bigote inferior mucho más largo y un bigote superior casi indetectable, lo que sugiere que podría tratarse de una asimetría negativa en las opiniones de las mujeres. En comparación con las mujeres, los hombres presentan bigotes inferiores y superiores notables en 3 de los 4 estados, lo que sugiere que se acercan un poco más a la simetría con respecto a las mujeres."
   ]
  },
  {
   "cell_type": "markdown",
   "metadata": {},
   "source": [
    "#### *h. ¿En cuál Estado se presenta mayor asimetría en las calificaciones de la importancia de reducir la contaminación?*"
   ]
  },
  {
   "cell_type": "markdown",
   "metadata": {},
   "source": [
    "En términos generales el Estado de California es donde se presenta una mayor asimetría en las calificaciones de la importancia de reducir la contaminación. Se puede observar en el gráfico que es el único Estado en el que es casi indectable el bigote superior (no se puede ver a simple vista, pero siempre está) y su bigote inferior es muy largo. Con lo anterior podemos concluir que tiene una asimetría negativa más evidente en comparación con los demás estados, haciendo a California la que tiene mayor asimetría en las calificaciones."
   ]
  },
  {
   "cell_type": "markdown",
   "metadata": {},
   "source": [
    "#### *i. ¿En cuál Estado las mujeres presentan mayor simetría en las calificaciones de la importancia de reducir la contaminación?*"
   ]
  },
  {
   "cell_type": "markdown",
   "metadata": {},
   "source": [
    "En el Estado de Florida las mujeres presentan mayor simetría en las calificaciones de la importancia de reducir la contaminación. Podemos observar que, de los 4 estados, en Florida las mujeres presentan un bigote inferior largo y un bigote superior más largo y un IQR más centrado respecto a los demás estados, lo que puede indicar un equilibrio mayor respecto a los demás estados. Si bien la simetría no es perfecta, si es la mayor simetría que se puede encontrar en las opiniones de las mujeres en los 4 estados."
   ]
  },
  {
   "cell_type": "markdown",
   "metadata": {},
   "source": [
    "### *9. Construya una tabla cruzada de indicadores entre la variable “¿Cuantas horas de sueño por noche suele dormir cuando no tiene clases al día siguiente?” versus “Género”. A partir de esta tabla responda las siguientes preguntas:*"
   ]
  },
  {
   "cell_type": "code",
   "execution_count": 29,
   "metadata": {},
   "outputs": [
    {
     "data": {
      "text/html": [
       "<style type=\"text/css\">\n",
       "#T_af30e th {\n",
       "  background-color: #8fbc8f;\n",
       "  color: black;\n",
       "}\n",
       "#T_af30e_row0_col0, #T_af30e_row0_col1, #T_af30e_row1_col0, #T_af30e_row1_col1, #T_af30e_row2_col0, #T_af30e_row2_col1, #T_af30e_row3_col0, #T_af30e_row3_col1, #T_af30e_row4_col0, #T_af30e_row4_col1, #T_af30e_row5_col0, #T_af30e_row5_col1, #T_af30e_row6_col0, #T_af30e_row6_col1, #T_af30e_row7_col0, #T_af30e_row7_col1, #T_af30e_row8_col0, #T_af30e_row8_col1, #T_af30e_row9_col0, #T_af30e_row9_col1, #T_af30e_row10_col0, #T_af30e_row10_col1, #T_af30e_row11_col0, #T_af30e_row11_col1, #T_af30e_row12_col0, #T_af30e_row12_col1, #T_af30e_row13_col0, #T_af30e_row13_col1, #T_af30e_row14_col0, #T_af30e_row14_col1 {\n",
       "  background-color: olive;\n",
       "  color: white;\n",
       "  border-color: black;\n",
       "  border-width: 1px;\n",
       "  border-style: solid;\n",
       "}\n",
       "</style>\n",
       "<table id=\"T_af30e\">\n",
       "  <thead>\n",
       "    <tr>\n",
       "      <th class=\"index_name level0\" >Gender</th>\n",
       "      <th id=\"T_af30e_level0_col0\" class=\"col_heading level0 col0\" >Female</th>\n",
       "      <th id=\"T_af30e_level0_col1\" class=\"col_heading level0 col1\" >Male</th>\n",
       "    </tr>\n",
       "    <tr>\n",
       "      <th class=\"index_name level0\" >Sleep_Hours_Non_Schoolnight</th>\n",
       "      <th class=\"blank col0\" >&nbsp;</th>\n",
       "      <th class=\"blank col1\" >&nbsp;</th>\n",
       "    </tr>\n",
       "  </thead>\n",
       "  <tbody>\n",
       "    <tr>\n",
       "      <th id=\"T_af30e_level0_row0\" class=\"row_heading level0 row0\" >1</th>\n",
       "      <td id=\"T_af30e_row0_col0\" class=\"data row0 col0\" >0.000000</td>\n",
       "      <td id=\"T_af30e_row0_col1\" class=\"data row0 col1\" >0.005510</td>\n",
       "    </tr>\n",
       "    <tr>\n",
       "      <th id=\"T_af30e_level0_row1\" class=\"row_heading level0 row1\" >2</th>\n",
       "      <td id=\"T_af30e_row1_col0\" class=\"data row1 col0\" >0.001395</td>\n",
       "      <td id=\"T_af30e_row1_col1\" class=\"data row1 col1\" >0.005510</td>\n",
       "    </tr>\n",
       "    <tr>\n",
       "      <th id=\"T_af30e_level0_row2\" class=\"row_heading level0 row2\" >3</th>\n",
       "      <td id=\"T_af30e_row2_col0\" class=\"data row2 col0\" >0.013947</td>\n",
       "      <td id=\"T_af30e_row2_col1\" class=\"data row2 col1\" >0.012397</td>\n",
       "    </tr>\n",
       "    <tr>\n",
       "      <th id=\"T_af30e_level0_row3\" class=\"row_heading level0 row3\" >4</th>\n",
       "      <td id=\"T_af30e_row3_col0\" class=\"data row3 col0\" >0.016736</td>\n",
       "      <td id=\"T_af30e_row3_col1\" class=\"data row3 col1\" >0.030303</td>\n",
       "    </tr>\n",
       "    <tr>\n",
       "      <th id=\"T_af30e_level0_row4\" class=\"row_heading level0 row4\" >5</th>\n",
       "      <td id=\"T_af30e_row4_col0\" class=\"data row4 col0\" >0.036262</td>\n",
       "      <td id=\"T_af30e_row4_col1\" class=\"data row4 col1\" >0.037190</td>\n",
       "    </tr>\n",
       "    <tr>\n",
       "      <th id=\"T_af30e_level0_row5\" class=\"row_heading level0 row5\" >6</th>\n",
       "      <td id=\"T_af30e_row5_col0\" class=\"data row5 col0\" >0.050209</td>\n",
       "      <td id=\"T_af30e_row5_col1\" class=\"data row5 col1\" >0.055096</td>\n",
       "    </tr>\n",
       "    <tr>\n",
       "      <th id=\"T_af30e_level0_row6\" class=\"row_heading level0 row6\" >7</th>\n",
       "      <td id=\"T_af30e_row6_col0\" class=\"data row6 col0\" >0.073919</td>\n",
       "      <td id=\"T_af30e_row6_col1\" class=\"data row6 col1\" >0.074380</td>\n",
       "    </tr>\n",
       "    <tr>\n",
       "      <th id=\"T_af30e_level0_row7\" class=\"row_heading level0 row7\" >8</th>\n",
       "      <td id=\"T_af30e_row7_col0\" class=\"data row7 col0\" >0.186890</td>\n",
       "      <td id=\"T_af30e_row7_col1\" class=\"data row7 col1\" >0.203857</td>\n",
       "    </tr>\n",
       "    <tr>\n",
       "      <th id=\"T_af30e_level0_row8\" class=\"row_heading level0 row8\" >9</th>\n",
       "      <td id=\"T_af30e_row8_col0\" class=\"data row8 col0\" >0.230126</td>\n",
       "      <td id=\"T_af30e_row8_col1\" class=\"data row8 col1\" >0.210744</td>\n",
       "    </tr>\n",
       "    <tr>\n",
       "      <th id=\"T_af30e_level0_row9\" class=\"row_heading level0 row9\" >10</th>\n",
       "      <td id=\"T_af30e_row9_col0\" class=\"data row9 col0\" >0.253835</td>\n",
       "      <td id=\"T_af30e_row9_col1\" class=\"data row9 col1\" >0.224518</td>\n",
       "    </tr>\n",
       "    <tr>\n",
       "      <th id=\"T_af30e_level0_row10\" class=\"row_heading level0 row10\" >11</th>\n",
       "      <td id=\"T_af30e_row10_col0\" class=\"data row10 col0\" >0.058577</td>\n",
       "      <td id=\"T_af30e_row10_col1\" class=\"data row10 col1\" >0.053719</td>\n",
       "    </tr>\n",
       "    <tr>\n",
       "      <th id=\"T_af30e_level0_row11\" class=\"row_heading level0 row11\" >12</th>\n",
       "      <td id=\"T_af30e_row11_col0\" class=\"data row11 col0\" >0.062762</td>\n",
       "      <td id=\"T_af30e_row11_col1\" class=\"data row11 col1\" >0.073003</td>\n",
       "    </tr>\n",
       "    <tr>\n",
       "      <th id=\"T_af30e_level0_row12\" class=\"row_heading level0 row12\" >13</th>\n",
       "      <td id=\"T_af30e_row12_col0\" class=\"data row12 col0\" >0.009763</td>\n",
       "      <td id=\"T_af30e_row12_col1\" class=\"data row12 col1\" >0.004132</td>\n",
       "    </tr>\n",
       "    <tr>\n",
       "      <th id=\"T_af30e_level0_row13\" class=\"row_heading level0 row13\" >14</th>\n",
       "      <td id=\"T_af30e_row13_col0\" class=\"data row13 col0\" >0.002789</td>\n",
       "      <td id=\"T_af30e_row13_col1\" class=\"data row13 col1\" >0.005510</td>\n",
       "    </tr>\n",
       "    <tr>\n",
       "      <th id=\"T_af30e_level0_row14\" class=\"row_heading level0 row14\" >15</th>\n",
       "      <td id=\"T_af30e_row14_col0\" class=\"data row14 col0\" >0.002789</td>\n",
       "      <td id=\"T_af30e_row14_col1\" class=\"data row14 col1\" >0.004132</td>\n",
       "    </tr>\n",
       "  </tbody>\n",
       "</table>\n"
      ],
      "text/plain": [
       "<pandas.io.formats.style.Styler at 0x21685543b90>"
      ]
     },
     "execution_count": 29,
     "metadata": {},
     "output_type": "execute_result"
    }
   ],
   "source": [
    "# Crear una tabla cruzada entre \"Sleep_Hours_Non_Schoolnight\" y \"Gender\"\n",
    "# Aquí se está tomando la columna 'Sleep_Hours_Non_Schoolnight' para las filas y 'Gender' para las columnas.\n",
    "cross_tab = pd.crosstab(df['Sleep_Hours_Non_Schoolnight'], df['Gender'], normalize='columns')\n",
    "\n",
    "# Aplicar un estilo básico a la tabla usando pandas\n",
    "cross_tab_styled = cross_tab.style.set_properties(**{\n",
    "    'background-color': 'olive', \n",
    "    'color': 'white', \n",
    "    'border-color': 'black', \n",
    "    'border-width': '1px', \n",
    "    'border-style': 'solid'\n",
    "}).set_table_styles([\n",
    "    {'selector': 'th', 'props': [('background-color', '#8fbc8f'), ('color', 'black')]}\n",
    "])\n",
    "\n",
    "# Mostrar la tabla estilizada\n",
    "cross_tab_styled\n"
   ]
  },
  {
   "cell_type": "code",
   "execution_count": 30,
   "metadata": {},
   "outputs": [
    {
     "name": "stdout",
     "output_type": "stream",
     "text": [
      "El porcentaje de estudiantes de la muestra que son mujeres es: 49.69%\n"
     ]
    }
   ],
   "source": [
    "# a) ¿Qué porcentaje de estudiantes de la muestra son mujeres?\n",
    "total_mujeres = df[df['Gender'] == 'Female'].shape[0]\n",
    "total_estudiantes = df.shape[0]\n",
    "porcentaje_mujeres = (total_mujeres / total_estudiantes) * 100\n",
    "print(f\"El porcentaje de estudiantes de la muestra que son mujeres es: {porcentaje_mujeres:.2f}%\")\n"
   ]
  },
  {
   "cell_type": "code",
   "execution_count": 31,
   "metadata": {},
   "outputs": [
    {
     "name": "stdout",
     "output_type": "stream",
     "text": [
      "En promedio, los estudiantes duermen 8.73 horas cuando no tienen clases al día siguiente.\n"
     ]
    }
   ],
   "source": [
    "# b) ¿Cuántas horas de sueño en promedio suelen dormir cuando no tiene clases al día siguiente los estudiantes de la muestra?\n",
    "promedio_sueno = df['Sleep_Hours_Non_Schoolnight'].mean()\n",
    "print(f\"En promedio, los estudiantes duermen {promedio_sueno:.2f} horas cuando no tienen clases al día siguiente.\")\n"
   ]
  },
  {
   "cell_type": "code",
   "execution_count": 32,
   "metadata": {},
   "outputs": [
    {
     "name": "stdout",
     "output_type": "stream",
     "text": [
      "En términos generales, el género que duerme más tiempo es: Female\n"
     ]
    }
   ],
   "source": [
    "# c) ¿En términos generales qué género duerme más tiempo?\n",
    "promedio_sueno_por_genero = df.groupby('Gender')['Sleep_Hours_Non_Schoolnight'].mean()\n",
    "genero_que_duerme_mas = promedio_sueno_por_genero.idxmax()\n",
    "print(f\"En términos generales, el género que duerme más tiempo es: {genero_que_duerme_mas}\")\n"
   ]
  },
  {
   "cell_type": "code",
   "execution_count": 33,
   "metadata": {},
   "outputs": [
    {
     "name": "stdout",
     "output_type": "stream",
     "text": [
      "En términos generales, el género con los tiempos de sueño más homogéneos es: Female\n"
     ]
    }
   ],
   "source": [
    "# d) ¿En términos generales qué género los tiempos son más homogéneos?\n",
    "desviacion_por_genero = df.groupby('Gender')['Sleep_Hours_Non_Schoolnight'].std()\n",
    "genero_mas_homogeneo = desviacion_por_genero.idxmin()\n",
    "print(f\"En términos generales, el género con los tiempos de sueño más homogéneos es: {genero_mas_homogeneo}\")\n"
   ]
  },
  {
   "cell_type": "code",
   "execution_count": 34,
   "metadata": {},
   "outputs": [
    {
     "name": "stdout",
     "output_type": "stream",
     "text": [
      "En términos generales, el género con los tiempos de sueño más simétricos es: Female\n"
     ]
    }
   ],
   "source": [
    "# e) ¿En términos generales qué género los tiempos son más simétricos?\n",
    "asimetria_por_genero = df.groupby('Gender')['Sleep_Hours_Non_Schoolnight'].apply(lambda x: stats.skew(x.dropna()))\n",
    "genero_mas_simetricos = asimetria_por_genero.abs().idxmin()\n",
    "print(f\"En términos generales, el género con los tiempos de sueño más simétricos es: {genero_mas_simetricos}\")\n"
   ]
  },
  {
   "cell_type": "code",
   "execution_count": 35,
   "metadata": {},
   "outputs": [
    {
     "name": "stdout",
     "output_type": "stream",
     "text": [
      "El género con un histograma más puntiagudo es: Male\n",
      "El género con un histograma más aplanado es: Female\n"
     ]
    }
   ],
   "source": [
    "# f) ¿Cuál género tiene un histograma más puntiagudo? ¿Cuál género tiene un histograma más aplanado o chato?\n",
    "kurtosis_por_genero = df.groupby('Gender')['Sleep_Hours_Non_Schoolnight'].apply(lambda x: stats.kurtosis(x.dropna()))\n",
    "genero_hist_puntiagudo = kurtosis_por_genero.idxmax()\n",
    "genero_hist_aplanado = kurtosis_por_genero.idxmin()\n",
    "print(f\"El género con un histograma más puntiagudo es: {genero_hist_puntiagudo}\")\n",
    "print(f\"El género con un histograma más aplanado es: {genero_hist_aplanado}\")\n"
   ]
  },
  {
   "cell_type": "code",
   "execution_count": 36,
   "metadata": {},
   "outputs": [
    {
     "data": {
      "image/png": "[encoded data removed]",
      "text/plain": [
       "<Figure size 1000x600 with 1 Axes>"
      ]
     },
     "metadata": {},
     "output_type": "display_data"
    }
   ],
   "source": [
    "# Mostrar gráficos de distribución de horas de sueño por género\n",
    "plt.figure(figsize=(10, 6))\n",
    "sns.histplot(data=df, x='Sleep_Hours_Non_Schoolnight', hue='Gender', kde=True)\n",
    "plt.title('Distribución de horas de sueño por género')\n",
    "plt.xlabel('Horas de sueño cuando no hay clases al día siguiente')\n",
    "plt.ylabel('Frecuencia')\n",
    "plt.show()\n"
   ]
  },
  {
   "cell_type": "markdown",
   "metadata": {},
   "source": [
    "### **10. Construya una tabla cruzada entre la variable “Materia preferida en el Colegio” versus la variable “Género”. A partir de esta tabla responda las siguientes preguntas:**"
   ]
  },
  {
   "cell_type": "code",
   "execution_count": 37,
   "metadata": {},
   "outputs": [
    {
     "data": {
      "text/html": [
       "<div>\n",
       "<style scoped>\n",
       "    .dataframe tbody tr th:only-of-type {\n",
       "        vertical-align: middle;\n",
       "    }\n",
       "\n",
       "    .dataframe tbody tr th {\n",
       "        vertical-align: top;\n",
       "    }\n",
       "\n",
       "    .dataframe thead th {\n",
       "        text-align: right;\n",
       "    }\n",
       "</style>\n",
       "<table border=\"1\" class=\"dataframe\">\n",
       "  <thead>\n",
       "    <tr style=\"text-align: right;\">\n",
       "      <th>Gender</th>\n",
       "      <th>Female</th>\n",
       "      <th>Male</th>\n",
       "    </tr>\n",
       "    <tr>\n",
       "      <th>Favorite_School_Subject</th>\n",
       "      <th></th>\n",
       "      <th></th>\n",
       "    </tr>\n",
       "  </thead>\n",
       "  <tbody>\n",
       "    <tr>\n",
       "      <th>Art</th>\n",
       "      <td>116</td>\n",
       "      <td>29</td>\n",
       "    </tr>\n",
       "    <tr>\n",
       "      <th>Computers and technology</th>\n",
       "      <td>21</td>\n",
       "      <td>63</td>\n",
       "    </tr>\n",
       "    <tr>\n",
       "      <th>English</th>\n",
       "      <td>100</td>\n",
       "      <td>40</td>\n",
       "    </tr>\n",
       "    <tr>\n",
       "      <th>Geography</th>\n",
       "      <td>1</td>\n",
       "      <td>6</td>\n",
       "    </tr>\n",
       "    <tr>\n",
       "      <th>History</th>\n",
       "      <td>75</td>\n",
       "      <td>109</td>\n",
       "    </tr>\n",
       "    <tr>\n",
       "      <th>Languages</th>\n",
       "      <td>27</td>\n",
       "      <td>10</td>\n",
       "    </tr>\n",
       "    <tr>\n",
       "      <th>Mathematics and statistics</th>\n",
       "      <td>101</td>\n",
       "      <td>153</td>\n",
       "    </tr>\n",
       "    <tr>\n",
       "      <th>Music</th>\n",
       "      <td>33</td>\n",
       "      <td>33</td>\n",
       "    </tr>\n",
       "    <tr>\n",
       "      <th>Other</th>\n",
       "      <td>43</td>\n",
       "      <td>55</td>\n",
       "    </tr>\n",
       "    <tr>\n",
       "      <th>Physical education</th>\n",
       "      <td>40</td>\n",
       "      <td>86</td>\n",
       "    </tr>\n",
       "    <tr>\n",
       "      <th>Science</th>\n",
       "      <td>124</td>\n",
       "      <td>111</td>\n",
       "    </tr>\n",
       "    <tr>\n",
       "      <th>Social studies</th>\n",
       "      <td>36</td>\n",
       "      <td>31</td>\n",
       "    </tr>\n",
       "  </tbody>\n",
       "</table>\n",
       "</div>"
      ],
      "text/plain": [
       "Gender                      Female  Male\n",
       "Favorite_School_Subject                 \n",
       "Art                            116    29\n",
       "Computers and technology        21    63\n",
       "English                        100    40\n",
       "Geography                        1     6\n",
       "History                         75   109\n",
       "Languages                       27    10\n",
       "Mathematics and statistics     101   153\n",
       "Music                           33    33\n",
       "Other                           43    55\n",
       "Physical education              40    86\n",
       "Science                        124   111\n",
       "Social studies                  36    31"
      ]
     },
     "execution_count": 37,
     "metadata": {},
     "output_type": "execute_result"
    }
   ],
   "source": [
    "pd.crosstab(df['Favorite_School_Subject'], df['Gender'])"
   ]
  },
  {
   "cell_type": "code",
   "execution_count": 38,
   "metadata": {},
   "outputs": [
    {
     "name": "stdout",
     "output_type": "stream",
     "text": [
      "       Favorite_School_Subject  Female  Male  Total  \\\n",
      "0                          Art     116    29    145   \n",
      "1     Computers and technology      21    63     84   \n",
      "2                      English     100    40    140   \n",
      "3                    Geography       1     6      7   \n",
      "4                      History      75   109    184   \n",
      "5                    Languages      27    10     37   \n",
      "6   Mathematics and statistics     101   153    254   \n",
      "7                        Music      33    33     66   \n",
      "8                        Other      43    55     98   \n",
      "9           Physical education      40    86    126   \n",
      "10                     Science     124   111    235   \n",
      "11              Social studies      36    31     67   \n",
      "\n",
      "    Porcentual_frequency_Male  Porcentual_frequency_Female  \\\n",
      "0                    2.009702                     8.038808   \n",
      "1                    4.365904                     1.455301   \n",
      "2                    2.772003                     6.930007   \n",
      "3                    0.415800                     0.069300   \n",
      "4                    7.553708                     5.197505   \n",
      "5                    0.693001                     1.871102   \n",
      "6                   10.602911                     6.999307   \n",
      "7                    2.286902                     2.286902   \n",
      "8                    3.811504                     2.979903   \n",
      "9                    5.959806                     2.772003   \n",
      "10                   7.692308                     8.593209   \n",
      "11                   2.148302                     2.494802   \n",
      "\n",
      "    Porcentual_frequency  \n",
      "0              10.048510  \n",
      "1               5.821206  \n",
      "2               9.702010  \n",
      "3               0.485100  \n",
      "4              12.751213  \n",
      "5               2.564103  \n",
      "6              17.602218  \n",
      "7               4.573805  \n",
      "8               6.791407  \n",
      "9               8.731809  \n",
      "10             16.285516  \n",
      "11              4.643105  \n"
     ]
    }
   ],
   "source": [
    "import pandas as pd\n",
    "\n",
    "# Supongamos que tu DataFrame original es df\n",
    "df = pd.DataFrame({\n",
    "    'Favorite_School_Subject': ['Art', 'Computers and technology', 'English', 'Geography', 'History', 'Languages', 'Mathematics and statistics', 'Music', 'Other', 'Physical education', 'Science', 'Social studies'],\n",
    "    'Female': [116, 21, 100, 1, 75, 27, 101, 33, 43, 40, 124, 36],\n",
    "    'Male': [29, 63, 40, 6, 109, 10, 153, 33, 55, 86, 111, 31]\n",
    "})\n",
    "\n",
    "# Calcula la tabla de frecuencias relativas\n",
    "df['Total'] = df['Female'] + df['Male']\n",
    "df['Porcentual_frequency_Male'] = (df['Male'] / df['Total'].sum())*100\n",
    "df['Porcentual_frequency_Female'] = (df['Female'] / df['Total'].sum())*100\n",
    "df['Porcentual_frequency'] = (df['Total'] / df['Total'].sum())*100\n",
    "\n",
    "# Mostrar el DataFrame con la nueva columna\n",
    "print(df)"
   ]
  },
  {
   "cell_type": "markdown",
   "metadata": {},
   "source": [
    "#### *a. ¿A cuántos estudiantes hombres les gusta la historia?*"
   ]
  },
  {
   "cell_type": "markdown",
   "metadata": {},
   "source": [
    "A 109 estudiantes hombres les gusta la historia."
   ]
  },
  {
   "cell_type": "markdown",
   "metadata": {},
   "source": [
    "#### *b. ¿Qué porcentaje de estudiantes son hombres?*"
   ]
  },
  {
   "cell_type": "code",
   "execution_count": 39,
   "metadata": {},
   "outputs": [
    {
     "name": "stdout",
     "output_type": "stream",
     "text": [
      "50.31185031185032\n"
     ]
    }
   ],
   "source": [
    "print(df['Porcentual_frequency_Male'].sum())"
   ]
  },
  {
   "cell_type": "markdown",
   "metadata": {},
   "source": [
    "El porcentaje apróximado de estudiantes hombres es del 50.31%"
   ]
  },
  {
   "cell_type": "markdown",
   "metadata": {},
   "source": [
    "#### *c. ¿Qué porcentaje de estudiantes prefieren música?*"
   ]
  },
  {
   "cell_type": "markdown",
   "metadata": {},
   "source": [
    "El porcentaje apróximado de estudiantes que prefieren música es de 4.57%"
   ]
  },
  {
   "cell_type": "markdown",
   "metadata": {},
   "source": [
    "#### *d. ¿De las mujeres, qué porcentaje de estudiantes prefieren otras actividades?*"
   ]
  },
  {
   "cell_type": "markdown",
   "metadata": {},
   "source": [
    "De las mujeres el porcentaje de estudiantes qué prefieren otras actividades es apróximadamente del 2.98%"
   ]
  },
  {
   "cell_type": "markdown",
   "metadata": {},
   "source": [
    "#### *e. ¿De los estudiantes que prefieren Ciencias, qué porcentaje son hombres?*"
   ]
  },
  {
   "cell_type": "markdown",
   "metadata": {},
   "source": [
    "De los estudiantes que prefieren Ciencias, el porcentaje de hombres es apróximadamente del 7.69%"
   ]
  },
  {
   "cell_type": "markdown",
   "metadata": {},
   "source": [
    "#### *f. ¿Qué porcentaje son mujeres y prefieren otras actividades?*"
   ]
  },
  {
   "cell_type": "markdown",
   "metadata": {},
   "source": [
    "De las mujeres el porcentaje de estudiantes qué prefieren otras actividades es apróximadamente del 2.98%"
   ]
  },
  {
   "cell_type": "markdown",
   "metadata": {},
   "source": [
    "#### *g. ¿Qué porcentaje son mujeres o prefieren música?*"
   ]
  },
  {
   "cell_type": "code",
   "execution_count": 40,
   "metadata": {},
   "outputs": [
    {
     "name": "stdout",
     "output_type": "stream",
     "text": [
      "54.26195468814969\n"
     ]
    }
   ],
   "source": [
    "womens_or_music = df['Porcentual_frequency_Female'].sum() + 4.573805\n",
    "print(womens_or_music)"
   ]
  },
  {
   "cell_type": "markdown",
   "metadata": {},
   "source": [
    "El porcentaje de estudiantes que son mujeres o prefieren música es apróximadamente del 54.26%"
   ]
  },
  {
   "cell_type": "markdown",
   "metadata": {},
   "source": [
    "#### *h. ¿De las mujeres, qué porcentaje le gusta la música o las Ciencias?*\n"
   ]
  },
  {
   "cell_type": "code",
   "execution_count": 41,
   "metadata": {},
   "outputs": [
    {
     "name": "stdout",
     "output_type": "stream",
     "text": [
      "10.880111\n"
     ]
    }
   ],
   "source": [
    "womens_like_music_or_science = 2.286902 + 8.593209\n",
    "print(womens_like_music_or_science)"
   ]
  },
  {
   "cell_type": "markdown",
   "metadata": {},
   "source": [
    "El porcentaje de estudiantes mujeres que prefieren la música o las ciencias es apróximadamente del 10.88%"
   ]
  }
 ],
 "metadata": {
  "kernelspec": {
   "display_name": "Python 3",
   "language": "python",
   "name": "python3"
  },
  "language_info": {
   "codemirror_mode": {
    "name": "ipython",
    "version": 3
   },
   "file_extension": ".py",
   "mimetype": "text/x-python",
   "name": "python",
   "nbconvert_exporter": "python",
   "pygments_lexer": "ipython3",
   "version": "3.12.3"
  }
 },
 "nbformat": 4,
 "nbformat_minor": 2
}
